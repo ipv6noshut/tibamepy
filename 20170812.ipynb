{
 "cells": [
  {
   "cell_type": "markdown",
   "metadata": {},
   "source": [
    "##Python 數值運算"
   ]
  },
  {
   "cell_type": "code",
   "execution_count": 6,
   "metadata": {},
   "outputs": [
    {
     "data": {
      "text/plain": [
       "19"
      ]
     },
     "execution_count": 6,
     "metadata": {},
     "output_type": "execute_result"
    }
   ],
   "source": [
    "3+2*8"
   ]
  },
  {
   "cell_type": "code",
   "execution_count": 8,
   "metadata": {
    "collapsed": true
   },
   "outputs": [],
   "source": [
    "a = 3\n",
    "b= 2\n"
   ]
  },
  {
   "cell_type": "code",
   "execution_count": 9,
   "metadata": {},
   "outputs": [
    {
     "data": {
      "text/plain": [
       "5"
      ]
     },
     "execution_count": 9,
     "metadata": {},
     "output_type": "execute_result"
    }
   ],
   "source": [
    "3 + 2"
   ]
  },
  {
   "cell_type": "code",
   "execution_count": 10,
   "metadata": {},
   "outputs": [
    {
     "ename": "TypeError",
     "evalue": "must be str, not int",
     "output_type": "error",
     "traceback": [
      "\u001b[1;31m---------------------------------------------------------------------------\u001b[0m",
      "\u001b[1;31mTypeError\u001b[0m                                 Traceback (most recent call last)",
      "\u001b[1;32m<ipython-input-10-5d776413ef1b>\u001b[0m in \u001b[0;36m<module>\u001b[1;34m()\u001b[0m\n\u001b[1;32m----> 1\u001b[1;33m \u001b[1;34m'3'\u001b[0m \u001b[1;33m+\u001b[0m \u001b[1;36m2\u001b[0m\u001b[1;33m\u001b[0m\u001b[0m\n\u001b[0m",
      "\u001b[1;31mTypeError\u001b[0m: must be str, not int"
     ]
    }
   ],
   "source": [
    "'3' + 2"
   ]
  },
  {
   "cell_type": "code",
   "execution_count": 11,
   "metadata": {},
   "outputs": [
    {
     "ename": "SyntaxError",
     "evalue": "invalid syntax (<ipython-input-11-e92615c5fd0c>, line 1)",
     "output_type": "error",
     "traceback": [
      "\u001b[1;36m  File \u001b[1;32m\"<ipython-input-11-e92615c5fd0c>\"\u001b[1;36m, line \u001b[1;32m1\u001b[0m\n\u001b[1;33m    type a\u001b[0m\n\u001b[1;37m         ^\u001b[0m\n\u001b[1;31mSyntaxError\u001b[0m\u001b[1;31m:\u001b[0m invalid syntax\n"
     ]
    }
   ],
   "source": [
    "type a"
   ]
  },
  {
   "cell_type": "code",
   "execution_count": 12,
   "metadata": {},
   "outputs": [
    {
     "data": {
      "text/plain": [
       "str"
      ]
     },
     "execution_count": 12,
     "metadata": {},
     "output_type": "execute_result"
    }
   ],
   "source": [
    "type('3')"
   ]
  },
  {
   "cell_type": "code",
   "execution_count": 13,
   "metadata": {
    "collapsed": true
   },
   "outputs": [],
   "source": [
    "price = 25.6\n",
    "exchange_rate = 32.33\n",
    "#tab 呼叫快速選"
   ]
  },
  {
   "cell_type": "code",
   "execution_count": 14,
   "metadata": {
    "collapsed": true
   },
   "outputs": [],
   "source": [
    "ntd_price = price * exchange_rate"
   ]
  },
  {
   "cell_type": "code",
   "execution_count": 15,
   "metadata": {},
   "outputs": [
    {
     "data": {
      "text/plain": [
       "827.648"
      ]
     },
     "execution_count": 15,
     "metadata": {},
     "output_type": "execute_result"
    }
   ],
   "source": [
    "ntd_price"
   ]
  },
  {
   "cell_type": "code",
   "execution_count": 16,
   "metadata": {
    "collapsed": true
   },
   "outputs": [],
   "source": [
    "s = \"i'm ! \""
   ]
  },
  {
   "cell_type": "code",
   "execution_count": 17,
   "metadata": {},
   "outputs": [
    {
     "data": {
      "text/plain": [
       "\"i'm ! \""
      ]
     },
     "execution_count": 17,
     "metadata": {},
     "output_type": "execute_result"
    }
   ],
   "source": [
    "s"
   ]
  },
  {
   "cell_type": "code",
   "execution_count": 18,
   "metadata": {},
   "outputs": [
    {
     "data": {
      "text/plain": [
       "'Hello World'"
      ]
     },
     "execution_count": 18,
     "metadata": {},
     "output_type": "execute_result"
    }
   ],
   "source": [
    "'Hello World'"
   ]
  },
  {
   "cell_type": "code",
   "execution_count": 19,
   "metadata": {},
   "outputs": [
    {
     "name": "stdout",
     "output_type": "stream",
     "text": [
      "Hello\n"
     ]
    }
   ],
   "source": [
    "print('Hello')"
   ]
  },
  {
   "cell_type": "code",
   "execution_count": 22,
   "metadata": {},
   "outputs": [
    {
     "name": "stdout",
     "output_type": "stream",
     "text": [
      "寶寶心裡苦 但寶寶不說\n",
      "\n",
      "\n",
      "this is th end\n"
     ]
    }
   ],
   "source": [
    "print('寶寶心裡苦 但寶寶不說')\n",
    "print('\\n')\n",
    "print('this is th end')"
   ]
  },
  {
   "cell_type": "code",
   "execution_count": 24,
   "metadata": {},
   "outputs": [
    {
     "name": "stdout",
     "output_type": "stream",
     "text": [
      "this is the first line\n",
      " this is the second line\n"
     ]
    }
   ],
   "source": [
    "print('this is the first line\\n this is the second line')"
   ]
  },
  {
   "cell_type": "code",
   "execution_count": 27,
   "metadata": {},
   "outputs": [
    {
     "name": "stdout",
     "output_type": "stream",
     "text": [
      "col1 col2 col3\n",
      "100 10000 1000\n",
      "99 1000 2000\n"
     ]
    }
   ],
   "source": [
    "print('col1 col2 col3\\n100 10000 1000\\n99 1000 2000')"
   ]
  },
  {
   "cell_type": "code",
   "execution_count": 36,
   "metadata": {},
   "outputs": [
    {
     "name": "stdout",
     "output_type": "stream",
     "text": [
      "col1\tcol2\tcol3\n",
      "100\t10000\t1000\n",
      "99\t1000\t2000\n"
     ]
    }
   ],
   "source": [
    "print('col1\\tcol2\\tcol3\\n100\\t10000\\t1000\\n99\\t1000\\t2000')"
   ]
  },
  {
   "cell_type": "code",
   "execution_count": 40,
   "metadata": {
    "collapsed": true
   },
   "outputs": [],
   "source": [
    "article = '''北韓今日發布最新集會系列照片，有許多民眾聚集平壤廣場，抗議聯合國與美國制裁北韓，北韓官方更稱在這短短3日內，已經有將近350萬人報名從軍，打倒美帝。\n",
    "據北韓官媒《勞動新聞》報導，北韓人民為了為己的自主權與生存權，對於聯合國的無理制裁相當憤怒，更對「美帝」的戰爭狂妄非常「有感」，因此許多北韓人決定「千百倍奉還」。報導更稱，在這短短的3天內，就有347.5萬人報名從軍，準備打倒美帝。\n",
    "今日稍早美國總統川普則再度對北韓警告，稱美國的軍事武裝皆已準備好，「隨時上膛」。（施旖婕／綜合外電報導）\n",
    "北韓發布最新集會照片。翻自《勞動新聞》\n",
    "翻自《勞動新聞》\n",
    "翻自《勞動新聞》\n",
    "Learn MoreAd 0:38'''"
   ]
  },
  {
   "cell_type": "code",
   "execution_count": 41,
   "metadata": {},
   "outputs": [
    {
     "data": {
      "text/plain": [
       "'北韓今日發布最新集會系列照片，有許多民眾聚集平壤廣場，抗議聯合國與美國制裁北韓，北韓官方更稱在這短短3日內，已經有將近350萬人報名從軍，打倒美帝。\\n據北韓官媒《勞動新聞》報導，北韓人民為了為己的自主權與生存權，對於聯合國的無理制裁相當憤怒，更對「美帝」的戰爭狂妄非常「有感」，因此許多北韓人決定「千百倍奉還」。報導更稱，在這短短的3天內，就有347.5萬人報名從軍，準備打倒美帝。\\n今日稍早美國總統川普則再度對北韓警告，稱美國的軍事武裝皆已準備好，「隨時上膛」。（施旖婕／綜合外電報導）\\n北韓發布最新集會照片。翻自《勞動新聞》\\n翻自《勞動新聞》\\n翻自《勞動新聞》\\nLearn MoreAd 0:38'"
      ]
     },
     "execution_count": 41,
     "metadata": {},
     "output_type": "execute_result"
    }
   ],
   "source": [
    "article"
   ]
  },
  {
   "cell_type": "code",
   "execution_count": 46,
   "metadata": {},
   "outputs": [
    {
     "name": "stdout",
     "output_type": "stream",
     "text": [
      "寶\n",
      "說\n",
      "寶心裡苦 但寶寶不說\n",
      "寶寶心\n",
      "寶寶心裡苦 但寶寶不說\n"
     ]
    }
   ],
   "source": [
    "s= '寶寶心裡苦 但寶寶不說'\n",
    "print(s[0])\n",
    "print(s[-1])\n",
    "print(s[1:])\n",
    "print(s[ :3])  #3以前東西 0~2\n",
    "print(s[ : ])"
   ]
  },
  {
   "cell_type": "code",
   "execution_count": 51,
   "metadata": {},
   "outputs": [
    {
     "name": "stdout",
     "output_type": "stream",
     "text": [
      "寶心苦但寶說\n",
      "寶心苦但寶說\n",
      "說不寶寶但 苦裡心寶寶\n"
     ]
    }
   ],
   "source": [
    "s= '寶寶心裡苦 但寶寶不說'\n",
    "print(s[0:len(s):2])\n",
    "print(s[::2])\n",
    "print(s[::-1])  #全部倒過來"
   ]
  },
  {
   "cell_type": "code",
   "execution_count": 52,
   "metadata": {},
   "outputs": [
    {
     "data": {
      "text/plain": [
       "'??????????'"
      ]
     },
     "execution_count": 52,
     "metadata": {},
     "output_type": "execute_result"
    }
   ],
   "source": [
    "letter = '?'\n",
    "letter * 10 "
   ]
  },
  {
   "cell_type": "code",
   "execution_count": 54,
   "metadata": {},
   "outputs": [
    {
     "name": "stdout",
     "output_type": "stream",
     "text": [
      "I LOVE U\n",
      "i love u\n",
      "I Love U\n",
      "['i', 'love', 'u']\n"
     ]
    }
   ],
   "source": [
    "s = 'i love u'\n",
    "print(s.upper())\n",
    "print(s.lower())\n",
    "print(s.title())\n",
    "print(s.split())"
   ]
  },
  {
   "cell_type": "code",
   "execution_count": 56,
   "metadata": {
    "scrolled": true
   },
   "outputs": [
    {
     "data": {
      "text/plain": [
       "['__add__',\n",
       " '__class__',\n",
       " '__contains__',\n",
       " '__delattr__',\n",
       " '__dir__',\n",
       " '__doc__',\n",
       " '__eq__',\n",
       " '__format__',\n",
       " '__ge__',\n",
       " '__getattribute__',\n",
       " '__getitem__',\n",
       " '__getnewargs__',\n",
       " '__gt__',\n",
       " '__hash__',\n",
       " '__init__',\n",
       " '__init_subclass__',\n",
       " '__iter__',\n",
       " '__le__',\n",
       " '__len__',\n",
       " '__lt__',\n",
       " '__mod__',\n",
       " '__mul__',\n",
       " '__ne__',\n",
       " '__new__',\n",
       " '__reduce__',\n",
       " '__reduce_ex__',\n",
       " '__repr__',\n",
       " '__rmod__',\n",
       " '__rmul__',\n",
       " '__setattr__',\n",
       " '__sizeof__',\n",
       " '__str__',\n",
       " '__subclasshook__',\n",
       " 'capitalize',\n",
       " 'casefold',\n",
       " 'center',\n",
       " 'count',\n",
       " 'encode',\n",
       " 'endswith',\n",
       " 'expandtabs',\n",
       " 'find',\n",
       " 'format',\n",
       " 'format_map',\n",
       " 'index',\n",
       " 'isalnum',\n",
       " 'isalpha',\n",
       " 'isdecimal',\n",
       " 'isdigit',\n",
       " 'isidentifier',\n",
       " 'islower',\n",
       " 'isnumeric',\n",
       " 'isprintable',\n",
       " 'isspace',\n",
       " 'istitle',\n",
       " 'isupper',\n",
       " 'join',\n",
       " 'ljust',\n",
       " 'lower',\n",
       " 'lstrip',\n",
       " 'maketrans',\n",
       " 'partition',\n",
       " 'replace',\n",
       " 'rfind',\n",
       " 'rindex',\n",
       " 'rjust',\n",
       " 'rpartition',\n",
       " 'rsplit',\n",
       " 'rstrip',\n",
       " 'split',\n",
       " 'splitlines',\n",
       " 'startswith',\n",
       " 'strip',\n",
       " 'swapcase',\n",
       " 'title',\n",
       " 'translate',\n",
       " 'upper',\n",
       " 'zfill']"
      ]
     },
     "execution_count": 56,
     "metadata": {},
     "output_type": "execute_result"
    }
   ],
   "source": [
    "dir(s)"
   ]
  },
  {
   "cell_type": "code",
   "execution_count": 59,
   "metadata": {},
   "outputs": [
    {
     "name": "stdout",
     "output_type": "stream",
     "text": [
      "Help on built-in function count:\n",
      "\n",
      "count(...) method of builtins.str instance\n",
      "    S.count(sub[, start[, end]]) -> int\n",
      "    \n",
      "    Return the number of non-overlapping occurrences of substring sub in\n",
      "    string S[start:end].  Optional arguments start and end are\n",
      "    interpreted as in slice notation.\n",
      "\n"
     ]
    }
   ],
   "source": [
    "help(s.count) \n",
    "#count how many word in line python"
   ]
  },
  {
   "cell_type": "code",
   "execution_count": 61,
   "metadata": {
    "collapsed": true
   },
   "outputs": [],
   "source": [
    "?s.count  #浮動視窗"
   ]
  },
  {
   "cell_type": "code",
   "execution_count": 67,
   "metadata": {},
   "outputs": [
    {
     "data": {
      "text/plain": [
       "7"
      ]
     },
     "execution_count": 67,
     "metadata": {},
     "output_type": "execute_result"
    }
   ],
   "source": [
    "article = '''\n",
    "北韓今日發布最新集會系列照片，有許多民眾聚集平壤廣場，抗議聯合國與美國制裁北韓，北韓官方更稱在這短短3日內，已經有將近350萬人報名從軍，打倒美帝。\n",
    "據北韓官媒《勞動新聞》報導，北韓人民為了為己的自主權與生存權，對於聯合國的無理制裁相當憤怒，更對「美帝」的戰爭狂妄非常「有感」，因此許多北韓人決定「千百倍奉還」。報導更稱，在這短短的3天內，就有347.5萬人報名從軍，準備打倒美帝。\n",
    "今日稍早美國總統川普則再度對北韓警告，稱美國的軍事武裝皆已準備好，「隨時上膛」。（施旖婕／綜合外電報導）\n",
    "'''\n",
    "\n",
    "article.count('北韓')"
   ]
  },
  {
   "cell_type": "code",
   "execution_count": 68,
   "metadata": {},
   "outputs": [
    {
     "data": {
      "text/plain": [
       "'\\n北韓今日發布最新集會系列照片，有許多民眾聚集平壤廣場，抗議聯合國與美國制裁北韓，北韓官方更稱在這短短3日內，已經有將近350萬人報名從軍，打倒美帝。\\n據北韓官媒《勞動新聞》報導，北韓人民為了為己的自主權與生存權，對於聯合國的無理制裁相當憤怒，更對「美帝」的戰爭狂妄非常「有感」，因此許多北韓人決定「千百倍奉還」。報導更稱，在這短短的3天內，就有347.5萬人報名從軍，準備打倒美帝。\\n今日稍早美國總統Trump則再度對北韓警告，稱美國的軍事武裝皆已準備好，「隨時上膛」。（施旖婕／綜合外電報導）\\n'"
      ]
     },
     "execution_count": 68,
     "metadata": {},
     "output_type": "execute_result"
    }
   ],
   "source": [
    "article.replace('川普','Trump')"
   ]
  },
  {
   "cell_type": "code",
   "execution_count": 69,
   "metadata": {},
   "outputs": [
    {
     "data": {
      "text/plain": [
       "246"
      ]
     },
     "execution_count": 69,
     "metadata": {},
     "output_type": "execute_result"
    }
   ],
   "source": [
    "len(article)"
   ]
  },
  {
   "cell_type": "code",
   "execution_count": 71,
   "metadata": {},
   "outputs": [
    {
     "data": {
      "text/plain": [
       "['\\n北韓今日發布最新集會系列照片，有許多民眾聚集平壤廣場，抗議聯合國與美國制裁北韓，北韓官方更稱在這短短3日內，已經有將近350萬人報名從軍，打倒美帝。\\n據北韓官媒《勞動新聞》報導，北韓人民為了為己的自主權與生存權，對於聯合國的無理制裁相當憤怒，更對「美帝」的戰爭狂妄非常「有感」，因此許多北韓人決定「千百倍奉還」。報導更稱，在這短短的3天內，就有347.5萬人報名從軍，準備打倒美帝。\\n今日稍早美國總統川普則再度對北韓警告，稱美國的軍事武裝皆已準備好，「隨時上膛」。（施旖婕／綜合外電報導）\\n']"
      ]
     },
     "execution_count": 71,
     "metadata": {},
     "output_type": "execute_result"
    }
   ],
   "source": [
    "article.split(',')"
   ]
  },
  {
   "cell_type": "markdown",
   "metadata": {},
   "source": [
    "Python list"
   ]
  },
  {
   "cell_type": "code",
   "execution_count": 72,
   "metadata": {},
   "outputs": [
    {
     "data": {
      "text/plain": [
       "170"
      ]
     },
     "execution_count": 72,
     "metadata": {},
     "output_type": "execute_result"
    }
   ],
   "source": [
    "height = 175\n",
    "heights =[170,165,175]\n",
    "heights[0]"
   ]
  },
  {
   "cell_type": "code",
   "execution_count": 76,
   "metadata": {
    "collapsed": true
   },
   "outputs": [],
   "source": [
    "a = [5, 6, 7,'s'] \n",
    "\n"
   ]
  },
  {
   "cell_type": "code",
   "execution_count": 79,
   "metadata": {},
   "outputs": [
    {
     "name": "stdout",
     "output_type": "stream",
     "text": [
      "[5, 's']\n"
     ]
    }
   ],
   "source": [
    "print(a[::3])"
   ]
  },
  {
   "cell_type": "code",
   "execution_count": 81,
   "metadata": {},
   "outputs": [
    {
     "name": "stdout",
     "output_type": "stream",
     "text": [
      "4\n"
     ]
    }
   ],
   "source": [
    "print(len(a))"
   ]
  },
  {
   "cell_type": "code",
   "execution_count": 83,
   "metadata": {},
   "outputs": [
    {
     "name": "stdout",
     "output_type": "stream",
     "text": [
      "8\n",
      "5\n"
     ]
    }
   ],
   "source": [
    "s=[5,6,7,8]\n",
    "print(max(s))\n",
    "print(min(s))"
   ]
  },
  {
   "cell_type": "code",
   "execution_count": 84,
   "metadata": {},
   "outputs": [
    {
     "ename": "NameError",
     "evalue": "name 's' is not defined",
     "output_type": "error",
     "traceback": [
      "\u001b[1;31m---------------------------------------------------------------------------\u001b[0m",
      "\u001b[1;31mNameError\u001b[0m                                 Traceback (most recent call last)",
      "\u001b[1;32m<ipython-input-84-c6e98f2d738c>\u001b[0m in \u001b[0;36m<module>\u001b[1;34m()\u001b[0m\n\u001b[0;32m      1\u001b[0m \u001b[1;32mdel\u001b[0m \u001b[0ms\u001b[0m\u001b[1;33m\u001b[0m\u001b[0m\n\u001b[1;32m----> 2\u001b[1;33m \u001b[0ms\u001b[0m\u001b[1;33m\u001b[0m\u001b[0m\n\u001b[0m",
      "\u001b[1;31mNameError\u001b[0m: name 's' is not defined"
     ]
    }
   ],
   "source": [
    "del s   #刪除變數  或 點選Kernel選restart\n",
    "s"
   ]
  },
  {
   "cell_type": "code",
   "execution_count": 94,
   "metadata": {
    "collapsed": true
   },
   "outputs": [],
   "source": [
    "a = [7,6,7,8]"
   ]
  },
  {
   "cell_type": "code",
   "execution_count": 96,
   "metadata": {},
   "outputs": [
    {
     "name": "stdout",
     "output_type": "stream",
     "text": [
      "[7, 7, 6]\n",
      "[7, 7, 6, 2]\n",
      "[2, 6, 7, 7]\n",
      "[7, 7, 6, 2]\n"
     ]
    }
   ],
   "source": [
    "a.pop()\n",
    "print(a)\n",
    "\n",
    "a.append(2)\n",
    "print(a)\n",
    "\n",
    "a.sort()\n",
    "print(a)\n",
    "\n",
    "a.reverse()\n",
    "print(a)"
   ]
  },
  {
   "cell_type": "code",
   "execution_count": 98,
   "metadata": {},
   "outputs": [
    {
     "name": "stdout",
     "output_type": "stream",
     "text": [
      "True\n",
      "False\n"
     ]
    }
   ],
   "source": [
    "a = ['apple','banana','cat','dog']\n",
    "print('apple'in a) #check有無在a內\n",
    "print('book'in a) #check有無在a內"
   ]
  },
  {
   "cell_type": "code",
   "execution_count": 99,
   "metadata": {},
   "outputs": [
    {
     "data": {
      "text/plain": [
       "False"
      ]
     },
     "execution_count": 99,
     "metadata": {},
     "output_type": "execute_result"
    }
   ],
   "source": [
    "article = '''\n",
    "北韓今日發布最新集會系列照片，有許多民眾聚集平壤廣場，抗議聯合國與美國制裁北韓，北韓官方更稱在這短短3日內，已經有將近350萬人報名從軍，打倒美帝。\n",
    "據北韓官媒《勞動新聞》報導，北韓人民為了為己的自主權與生存權，對於聯合國的無理制裁相當憤怒，更對「美帝」的戰爭狂妄非常「有感」，因此許多北韓人決定「千百倍奉還」。報導更稱，在這短短的3天內，就有347.5萬人報名從軍，準備打倒美帝。\n",
    "今日稍早美國總統川普則再度對北韓警告，稱美國的軍事武裝皆已準備好，「隨時上膛」。（施旖婕／綜合外電報導）\n",
    "'''\n",
    "\n",
    "'金正恩' in article"
   ]
  },
  {
   "cell_type": "code",
   "execution_count": 101,
   "metadata": {},
   "outputs": [
    {
     "data": {
      "text/plain": [
       "[1, 2000, 3]"
      ]
     },
     "execution_count": 101,
     "metadata": {},
     "output_type": "execute_result"
    }
   ],
   "source": [
    "#PYTHON LIST是指標 非COPY過去!!!\n",
    "\n",
    "a = [1, 2, 3]\n",
    "b = a\n",
    "a[1] = 2000\n",
    "b\n",
    "\n",
    "\n"
   ]
  },
  {
   "cell_type": "code",
   "execution_count": 106,
   "metadata": {},
   "outputs": [
    {
     "data": {
      "text/plain": [
       "([1, 2000, 3], [1, 2, 3])"
      ]
     },
     "execution_count": 106,
     "metadata": {},
     "output_type": "execute_result"
    }
   ],
   "source": [
    "a = [1, 2, 3]\n",
    "import copy\n",
    "b = copy.deepcopy(a)\n",
    "a[1] = 2000\n",
    "a , b\n"
   ]
  },
  {
   "cell_type": "code",
   "execution_count": 107,
   "metadata": {},
   "outputs": [
    {
     "data": {
      "text/plain": [
       "['h', 'e', 'l', 'l', 'o', ' ', 'w', 'o', 'r', 'l', 'd']"
      ]
     },
     "execution_count": 107,
     "metadata": {},
     "output_type": "execute_result"
    }
   ],
   "source": [
    "a = 'hello world'\n",
    "list(a)"
   ]
  },
  {
   "cell_type": "raw",
   "metadata": {},
   "source": [
    "Dictionary"
   ]
  },
  {
   "cell_type": "code",
   "execution_count": 108,
   "metadata": {},
   "outputs": [
    {
     "data": {
      "text/plain": [
       "{'a': 100, 'b': 'yes', 'c': 0.98}"
      ]
     },
     "execution_count": 108,
     "metadata": {},
     "output_type": "execute_result"
    }
   ],
   "source": [
    "dic = {'a':100, 'b':\"yes\", 'c':0.98}\n",
    "dic"
   ]
  },
  {
   "cell_type": "code",
   "execution_count": 110,
   "metadata": {},
   "outputs": [
    {
     "data": {
      "text/plain": [
       "100"
      ]
     },
     "execution_count": 110,
     "metadata": {},
     "output_type": "execute_result"
    }
   ],
   "source": [
    "dic['a']"
   ]
  },
  {
   "cell_type": "code",
   "execution_count": 111,
   "metadata": {},
   "outputs": [
    {
     "data": {
      "text/plain": [
       "dict_keys(['a', 'b', 'c'])"
      ]
     },
     "execution_count": 111,
     "metadata": {},
     "output_type": "execute_result"
    }
   ],
   "source": [
    "dic.keys()"
   ]
  },
  {
   "cell_type": "code",
   "execution_count": 112,
   "metadata": {},
   "outputs": [
    {
     "data": {
      "text/plain": [
       "dict_values([100, 'yes', 0.98])"
      ]
     },
     "execution_count": 112,
     "metadata": {},
     "output_type": "execute_result"
    }
   ],
   "source": [
    "dic.values()"
   ]
  },
  {
   "cell_type": "code",
   "execution_count": 114,
   "metadata": {},
   "outputs": [
    {
     "data": {
      "text/plain": [
       "'default'"
      ]
     },
     "execution_count": 114,
     "metadata": {},
     "output_type": "execute_result"
    }
   ],
   "source": [
    "dic.get('d','default')    #用get找不到 d可以輸出"
   ]
  },
  {
   "cell_type": "markdown",
   "metadata": {},
   "source": [
    "SET"
   ]
  },
  {
   "cell_type": "code",
   "execution_count": 125,
   "metadata": {},
   "outputs": [
    {
     "data": {
      "text/plain": [
       "{'0922333444', '0955623412'}"
      ]
     },
     "execution_count": 125,
     "metadata": {},
     "output_type": "execute_result"
    }
   ],
   "source": [
    "a = ['0912345678','0922333444','0955623412']\n",
    "b = [ '0912345678','0966777888']\n",
    "set(b)- set(b)\n",
    "set(a)- set(b)"
   ]
  },
  {
   "cell_type": "markdown",
   "metadata": {},
   "source": [
    "TUPLE\n"
   ]
  },
  {
   "cell_type": "code",
   "execution_count": 127,
   "metadata": {},
   "outputs": [
    {
     "name": "stdout",
     "output_type": "stream",
     "text": [
      "(1, 2, 3)\n",
      "<class 'tuple'>\n"
     ]
    }
   ],
   "source": [
    "a = (1,2,3)\n",
    "print(a)\n",
    "print(type(a))"
   ]
  },
  {
   "cell_type": "code",
   "execution_count": 132,
   "metadata": {},
   "outputs": [
    {
     "name": "stdout",
     "output_type": "stream",
     "text": [
      "2\n",
      "one\n"
     ]
    },
    {
     "data": {
      "text/plain": [
       "tuple"
      ]
     },
     "execution_count": 132,
     "metadata": {},
     "output_type": "execute_result"
    }
   ],
   "source": [
    "t = ('one',2)\n",
    "print(len(t))\n",
    "print(t[0])\n",
    "type(t)"
   ]
  },
  {
   "cell_type": "code",
   "execution_count": 135,
   "metadata": {},
   "outputs": [
    {
     "name": "stdout",
     "output_type": "stream",
     "text": [
      "1 2\n",
      "(1, 2)\n",
      "<class 'tuple'>\n"
     ]
    }
   ],
   "source": [
    "a,b=1,2   #免分開!\n",
    "print(a,b)\n",
    "c=a,b\n",
    "print(c)\n",
    "print(type(c))"
   ]
  },
  {
   "cell_type": "code",
   "execution_count": 138,
   "metadata": {},
   "outputs": [
    {
     "name": "stdout",
     "output_type": "stream",
     "text": [
      "2 1\n"
     ]
    }
   ],
   "source": [
    "#python 可直接對換數字\n",
    "a,b=1,2\n",
    "a,b=b,a\n",
    "print(a,b)"
   ]
  },
  {
   "cell_type": "markdown",
   "metadata": {},
   "source": [
    "控制流程"
   ]
  },
  {
   "cell_type": "code",
   "execution_count": 143,
   "metadata": {},
   "outputs": [
    {
     "name": "stdout",
     "output_type": "stream",
     "text": [
      "87\n",
      "87\n",
      "87\n",
      "87\n",
      "87\n",
      "87\n",
      "87\n",
      "found8\n",
      "9 is found\n"
     ]
    }
   ],
   "source": [
    "a = 9\n",
    "b = 8\n",
    "for i in  range(1,10):\n",
    "    if i == 9:\n",
    "        print(str(a) + ' is found')\n",
    "    elif i==8:\n",
    "        print('found' + str(b))\n",
    "    else:\n",
    "        print('87')\n"
   ]
  },
  {
   "cell_type": "code",
   "execution_count": 147,
   "metadata": {},
   "outputs": [
    {
     "name": "stdout",
     "output_type": "stream",
     "text": [
      "a\n",
      "b\n",
      "c\n"
     ]
    }
   ],
   "source": [
    "for ele in ['a','b','c']:\n",
    "    print(ele)\n",
    "    \n",
    "    #把ele當代名詞 a給ele輸出後換B給ele輸出接著換C給ele輸出"
   ]
  },
  {
   "cell_type": "code",
   "execution_count": 149,
   "metadata": {},
   "outputs": [
    {
     "data": {
      "text/plain": [
       "55"
      ]
     },
     "execution_count": 149,
     "metadata": {},
     "output_type": "execute_result"
    }
   ],
   "source": [
    "sum(range(1,11))  #range產生序列"
   ]
  },
  {
   "cell_type": "code",
   "execution_count": 151,
   "metadata": {},
   "outputs": [
    {
     "name": "stdout",
     "output_type": "stream",
     "text": [
      "55\n"
     ]
    }
   ],
   "source": [
    "s = 0\n",
    "for i in range(1,11):\n",
    "    s= s + i\n",
    "print(s)"
   ]
  },
  {
   "cell_type": "code",
   "execution_count": 153,
   "metadata": {
    "collapsed": true
   },
   "outputs": [],
   "source": [
    "a = 0\n",
    "s = 0\n",
    "while s < 100:\n",
    "    a = a + 1\n",
    "    s += 1"
   ]
  },
  {
   "cell_type": "markdown",
   "metadata": {},
   "source": [
    "function"
   ]
  },
  {
   "cell_type": "code",
   "execution_count": 165,
   "metadata": {
    "scrolled": true
   },
   "outputs": [
    {
     "ename": "TypeError",
     "evalue": "say_hello() takes 0 positional arguments but 1 was given",
     "output_type": "error",
     "traceback": [
      "\u001b[1;31m---------------------------------------------------------------------------\u001b[0m",
      "\u001b[1;31mTypeError\u001b[0m                                 Traceback (most recent call last)",
      "\u001b[1;32m<ipython-input-165-abb9171fd7a9>\u001b[0m in \u001b[0;36m<module>\u001b[1;34m()\u001b[0m\n\u001b[0;32m      2\u001b[0m     \u001b[0mprint\u001b[0m\u001b[1;33m(\u001b[0m\u001b[1;34m'hello'\u001b[0m \u001b[1;33m+\u001b[0m \u001b[0mname\u001b[0m\u001b[1;33m)\u001b[0m\u001b[1;33m\u001b[0m\u001b[0m\n\u001b[0;32m      3\u001b[0m \u001b[1;33m\u001b[0m\u001b[0m\n\u001b[1;32m----> 4\u001b[1;33m \u001b[0msay_hello\u001b[0m\u001b[1;33m(\u001b[0m\u001b[1;34m'David'\u001b[0m\u001b[1;33m)\u001b[0m\u001b[1;33m\u001b[0m\u001b[0m\n\u001b[0m",
      "\u001b[1;31mTypeError\u001b[0m: say_hello() takes 0 positional arguments but 1 was given"
     ]
    }
   ],
   "source": [
    "def say_hello():\n",
    "    print('hello' + name)\n",
    "\n",
    "say_hello('David')\n"
   ]
  },
  {
   "cell_type": "code",
   "execution_count": 166,
   "metadata": {},
   "outputs": [
    {
     "data": {
      "text/plain": [
       "9"
      ]
     },
     "execution_count": 166,
     "metadata": {},
     "output_type": "execute_result"
    }
   ],
   "source": [
    "def addNum(a,b):\n",
    "    return a+b\n",
    "\n",
    "addNum(5,4)"
   ]
  },
  {
   "cell_type": "code",
   "execution_count": 174,
   "metadata": {},
   "outputs": [
    {
     "name": "stdout",
     "output_type": "stream",
     "text": [
      "['__doc__', '__loader__', '__name__', '__package__', '__spec__', 'acos', 'acosh', 'asin', 'asinh', 'atan', 'atan2', 'atanh', 'ceil', 'copysign', 'cos', 'cosh', 'degrees', 'e', 'erf', 'erfc', 'exp', 'expm1', 'fabs', 'factorial', 'floor', 'fmod', 'frexp', 'fsum', 'gamma', 'gcd', 'hypot', 'inf', 'isclose', 'isfinite', 'isinf', 'isnan', 'ldexp', 'lgamma', 'log', 'log10', 'log1p', 'log2', 'modf', 'nan', 'pi', 'pow', 'radians', 'sin', 'sinh', 'sqrt', 'tan', 'tanh', 'tau', 'trunc']\n",
      "Help on built-in function log in module math:\n",
      "\n",
      "log(...)\n",
      "    log(x[, base])\n",
      "    \n",
      "    Return the logarithm of x to the given base.\n",
      "    If the base not specified, returns the natural logarithm (base e) of x.\n",
      "\n",
      "None\n"
     ]
    }
   ],
   "source": [
    "import math\n",
    "#help(math)\n",
    "print(dir(math))\n",
    "print(help(math.log))"
   ]
  },
  {
   "cell_type": "code",
   "execution_count": 177,
   "metadata": {},
   "outputs": [
    {
     "data": {
      "text/plain": [
       "4"
      ]
     },
     "execution_count": 177,
     "metadata": {},
     "output_type": "execute_result"
    }
   ],
   "source": [
    "import math\n",
    "math.ceil(3.6)"
   ]
  },
  {
   "cell_type": "code",
   "execution_count": 179,
   "metadata": {},
   "outputs": [
    {
     "name": "stdout",
     "output_type": "stream",
     "text": [
      "alabaster==0.7.10\n",
      "anaconda-client==1.6.3\n",
      "anaconda-navigator==1.6.2\n",
      "anaconda-project==0.6.0\n",
      "asn1crypto==0.22.0\n",
      "astroid==1.4.9\n",
      "astropy==1.3.2\n",
      "Babel==2.4.0\n",
      "backports.shutil-get-terminal-size==1.0.0\n",
      "beautifulsoup4==4.6.0\n",
      "bitarray==0.8.1\n",
      "blaze==0.10.1\n",
      "bleach==1.5.0\n",
      "bokeh==0.12.5\n",
      "boto==2.46.1\n",
      "Bottleneck==1.2.1\n",
      "cffi==1.10.0\n",
      "chardet==3.0.3\n",
      "click==6.7\n",
      "cloudpickle==0.2.2\n",
      "clyent==1.2.2\n",
      "colorama==0.3.9\n",
      "comtypes==1.1.2\n",
      "conda==4.3.21\n",
      "contextlib2==0.5.5\n",
      "cryptography==1.8.1\n",
      "cycler==0.10.0\n",
      "Cython==0.25.2\n",
      "cytoolz==0.8.2\n",
      "dask==0.14.3\n",
      "datashape==0.5.4\n",
      "decorator==4.0.11\n",
      "distributed==1.16.3\n",
      "docutils==0.13.1\n",
      "entrypoints==0.2.2\n",
      "et-xmlfile==1.0.1\n",
      "fastcache==1.0.2\n",
      "Flask==0.12.2\n",
      "Flask-Cors==3.0.2\n",
      "gevent==1.2.1\n",
      "greenlet==0.4.12\n",
      "h5py==2.7.0\n",
      "HeapDict==1.0.0\n",
      "html5lib==0.999\n",
      "idna==2.5\n",
      "imagesize==0.7.1\n",
      "ipykernel==4.6.1\n",
      "ipython==5.3.0\n",
      "ipython-genutils==0.2.0\n",
      "ipywidgets==6.0.0\n",
      "isort==4.2.5\n",
      "itsdangerous==0.24\n",
      "jdcal==1.3\n",
      "jedi==0.10.2\n",
      "Jinja2==2.9.6\n",
      "jsonschema==2.6.0\n",
      "jupyter==1.0.0\n",
      "jupyter-client==5.0.1\n",
      "jupyter-console==5.1.0\n",
      "jupyter-core==4.3.0\n",
      "lazy-object-proxy==1.2.2\n",
      "llvmlite==0.18.0\n",
      "locket==0.2.0\n",
      "lxml==3.7.3\n",
      "MarkupSafe==0.23\n",
      "matplotlib==2.0.2\n",
      "menuinst==1.4.7\n",
      "mistune==0.7.4\n",
      "mpmath==0.19\n",
      "msgpack-python==0.4.8\n",
      "multipledispatch==0.4.9\n",
      "navigator-updater==0.1.0\n",
      "nbconvert==5.1.1\n",
      "nbformat==4.3.0\n",
      "networkx==1.11\n",
      "nltk==3.2.3\n",
      "nose==1.3.7\n",
      "notebook==5.0.0\n",
      "numba==0.33.0\n",
      "numexpr==2.6.2\n",
      "numpy==1.12.1\n",
      "numpydoc==0.6.0\n",
      "odo==0.5.0\n",
      "olefile==0.44\n",
      "openpyxl==2.4.7\n",
      "packaging==16.8\n",
      "pandas==0.20.1\n",
      "pandocfilters==1.4.1\n",
      "partd==0.3.8\n",
      "path.py==10.3.1\n",
      "pathlib2==2.2.1\n",
      "patsy==0.4.1\n",
      "pep8==1.7.0\n",
      "pickleshare==0.7.4\n",
      "Pillow==4.1.1\n",
      "ply==3.10\n",
      "prompt-toolkit==1.0.14\n",
      "psutil==5.2.2\n",
      "py==1.4.33\n",
      "pycosat==0.6.2\n",
      "pycparser==2.17\n",
      "pycrypto==2.6.1\n",
      "pycurl==7.43.0\n",
      "pyflakes==1.5.0\n",
      "Pygments==2.2.0\n",
      "pylint==1.6.4\n",
      "pyodbc==4.0.16\n",
      "pyOpenSSL==17.0.0\n",
      "pyparsing==2.1.4\n",
      "pytest==3.0.7\n",
      "python-dateutil==2.6.0\n",
      "pytz==2017.2\n",
      "PyWavelets==0.5.2\n",
      "pywin32==220\n",
      "PyYAML==3.12\n",
      "pyzmq==16.0.2\n",
      "QtAwesome==0.4.4\n",
      "qtconsole==4.3.0\n",
      "QtPy==1.2.1\n",
      "requests==2.14.2\n",
      "rope-py3k==0.9.4.post1\n",
      "scikit-image==0.13.0\n",
      "scikit-learn==0.18.1\n",
      "scipy==0.19.0\n",
      "seaborn==0.7.1\n",
      "simplegeneric==0.8.1\n",
      "singledispatch==3.4.0.3\n",
      "six==1.10.0\n",
      "snowballstemmer==1.2.1\n",
      "sortedcollections==0.5.3\n",
      "sortedcontainers==1.5.7\n",
      "sphinx==1.5.6\n",
      "spyder==3.1.4\n",
      "SQLAlchemy==1.1.9\n",
      "statsmodels==0.8.0\n",
      "sympy==1.0\n",
      "tables==3.2.2\n",
      "tblib==1.3.2\n",
      "testpath==0.3\n",
      "toolz==0.8.2\n",
      "tornado==4.5.1\n",
      "traitlets==4.3.2\n",
      "unicodecsv==0.14.1\n",
      "wcwidth==0.1.7\n",
      "Werkzeug==0.12.2\n",
      "widgetsnbextension==2.0.0\n",
      "win-unicode-console==0.5\n",
      "wrapt==1.10.10\n",
      "xlrd==1.0.0\n",
      "XlsxWriter==0.9.6\n",
      "xlwings==0.10.4\n",
      "xlwt==1.2.0\n",
      "zict==0.1.2\n"
     ]
    }
   ],
   "source": [
    "# ! pip install   不用回到CMD直接安裝套件\n",
    "!pip freeze"
   ]
  },
  {
   "cell_type": "markdown",
   "metadata": {},
   "source": [
    "錯誤與例外"
   ]
  },
  {
   "cell_type": "code",
   "execution_count": 188,
   "metadata": {},
   "outputs": [
    {
     "name": "stdout",
     "output_type": "stream",
     "text": [
      "Dividend: 5\n",
      "Divisor: 8\n",
      "5 8\n",
      "end\n"
     ]
    }
   ],
   "source": [
    "dividend = input(\"Dividend: \")\n",
    "divisor = input(\"Divisor: \")\n",
    "print(dividend,divisor)\n",
    "\n",
    "try:\n",
    "    float(dividend)/float(divisor)\n",
    "except ZeroDivisionError as detail:  #錯誤訊息放入datail\n",
    "    print('ERROR: {}'.format(detail)) #錯誤訊息透過format填入{}大括號內\n",
    "except ValueError as detail:  #錯誤訊息放入datail\n",
    "    print('ERROR: {}'.format(detail)) #錯誤訊息透過format填入{}大括號內  \n",
    "except :\n",
    "    print('error!!!!')\n",
    "finally:\n",
    "    print('end')  #無論如何都會執行"
   ]
  },
  {
   "cell_type": "markdown",
   "metadata": {},
   "source": [
    "檔案操作"
   ]
  },
  {
   "cell_type": "code",
   "execution_count": 196,
   "metadata": {},
   "outputs": [
    {
     "data": {
      "text/plain": [
       "<function TextIOWrapper.close>"
      ]
     },
     "execution_count": 196,
     "metadata": {},
     "output_type": "execute_result"
    }
   ],
   "source": [
    "fid = open('test.txt','w')\n",
    "fid.write('Hello\\nworld')\n",
    "fid.close"
   ]
  },
  {
   "cell_type": "code",
   "execution_count": 205,
   "metadata": {
    "collapsed": true
   },
   "outputs": [],
   "source": [
    "with open('test.txt', 'w') as f:\n",
    "    f.write('Hello\\nWorld')"
   ]
  },
  {
   "cell_type": "code",
   "execution_count": 199,
   "metadata": {
    "collapsed": true
   },
   "outputs": [],
   "source": [
    "#strip 將所有換行拿掉"
   ]
  },
  {
   "cell_type": "code",
   "execution_count": 207,
   "metadata": {},
   "outputs": [
    {
     "name": "stdout",
     "output_type": "stream",
     "text": [
      "Hello\n",
      "World\n"
     ]
    }
   ],
   "source": [
    "with open('test.txt', 'r') as fid:\n",
    "    s= fid.read() #讀取全部\n",
    "print(s)"
   ]
  },
  {
   "cell_type": "code",
   "execution_count": 211,
   "metadata": {
    "scrolled": false
   },
   "outputs": [
    {
     "name": "stdout",
     "output_type": "stream",
     "text": [
      "2\n"
     ]
    }
   ],
   "source": [
    "cnt = 0\n",
    "\n",
    "with open('test.txt', 'r') as fid:\n",
    "    for line in fid:\n",
    "        cnt = cnt +1    #算幾行\n",
    "print(cnt)"
   ]
  },
  {
   "cell_type": "markdown",
   "metadata": {
    "collapsed": true
   },
   "source": [
    "字詞分析"
   ]
  },
  {
   "cell_type": "code",
   "execution_count": 2,
   "metadata": {},
   "outputs": [],
   "source": [
    "with open('cnn.txt','r') as f:\n",
    "    article = f.read()\n",
    "    \n",
    "dic ={}\n",
    "for w in article.split():\n",
    "    word=w.lower()\n",
    "    if word not in dic:\n",
    "        dic[word] = 1\n",
    "    else:\n",
    "        dic[word] = dic[word] + 1\n",
    "        "
   ]
  },
  {
   "cell_type": "code",
   "execution_count": 4,
   "metadata": {
    "scrolled": true
   },
   "outputs": [
    {
     "data": {
      "text/plain": [
       "[('the', 31),\n",
       " ('in', 19),\n",
       " ('for', 11),\n",
       " ('to', 10),\n",
       " ('a', 9),\n",
       " ('of', 8),\n",
       " ('his', 8),\n",
       " ('he', 7),\n",
       " ('london', 4),\n",
       " ('was', 4)]"
      ]
     },
     "execution_count": 4,
     "metadata": {},
     "output_type": "execute_result"
    }
   ],
   "source": [
    "import operator\n",
    "swd = sorted(dic.items(), key=operator.itemgetter(1), reverse=True)\n",
    "#轉換成items 有點像Tuple   以值來排列  由大大小\n",
    "swd[0:10]  #取0~10"
   ]
  },
  {
   "cell_type": "markdown",
   "metadata": {},
   "source": [
    "使用COLLECITONS的Counter\n"
   ]
  },
  {
   "cell_type": "code",
   "execution_count": 14,
   "metadata": {
    "scrolled": true
   },
   "outputs": [
    {
     "data": {
      "text/plain": [
       "[('the', 30),\n",
       " ('in', 18),\n",
       " ('for', 11),\n",
       " ('to', 10),\n",
       " ('a', 9),\n",
       " ('of', 8),\n",
       " ('his', 8),\n",
       " ('he', 5),\n",
       " ('London', 4),\n",
       " ('was', 4)]"
      ]
     },
     "execution_count": 14,
     "metadata": {},
     "output_type": "execute_result"
    }
   ],
   "source": [
    "from collections import Counter\n",
    "with open('cnn.txt','r') as f:\n",
    "          article = f.read()\n",
    "c = Counter(article.split())\n",
    "c.most_common(10)"
   ]
  },
  {
   "cell_type": "code",
   "execution_count": 16,
   "metadata": {},
   "outputs": [
    {
     "name": "stdout",
     "output_type": "stream",
     "text": [
      "Requirement already satisfied: jieba in c:\\programdata\\anaconda3\\lib\\site-packages\n"
     ]
    }
   ],
   "source": [
    "! pip install jieba"
   ]
  },
  {
   "cell_type": "code",
   "execution_count": 18,
   "metadata": {},
   "outputs": [
    {
     "name": "stderr",
     "output_type": "stream",
     "text": [
      "Building prefix dict from the default dictionary ...\n",
      "Dumping model to file cache C:\\Users\\USER\\AppData\\Local\\Temp\\jieba.cache\n",
      "Loading model cost 0.954 seconds.\n",
      "Prefix dict has been built succesfully.\n"
     ]
    },
    {
     "data": {
      "text/plain": [
       "[(' ', 402),\n",
       " (',', 31),\n",
       " ('the', 30),\n",
       " ('\\n', 18),\n",
       " ('in', 18),\n",
       " ('.', 17),\n",
       " ('for', 11),\n",
       " (\"'\", 11),\n",
       " ('to', 10),\n",
       " ('a', 9)]"
      ]
     },
     "execution_count": 18,
     "metadata": {},
     "output_type": "execute_result"
    }
   ],
   "source": [
    "import jieba  #可用中文\n",
    "from collections  import Counter\n",
    "with open('cnn.txt','r',encoding='utf8') as f:\n",
    "    article = f.read()\n",
    "c= Counter(ele for ele in jieba.cut(article))\n",
    "c.most_common(10)"
   ]
  }
 ],
 "metadata": {
  "kernelspec": {
   "display_name": "Python 3",
   "language": "python",
   "name": "python3"
  },
  "language_info": {
   "codemirror_mode": {
    "name": "ipython",
    "version": 3
   },
   "file_extension": ".py",
   "mimetype": "text/x-python",
   "name": "python",
   "nbconvert_exporter": "python",
   "pygments_lexer": "ipython3",
   "version": "3.6.1"
  }
 },
 "nbformat": 4,
 "nbformat_minor": 2
}
