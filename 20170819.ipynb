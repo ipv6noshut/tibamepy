{
 "cells": [
  {
   "cell_type": "code",
   "execution_count": 10,
   "metadata": {},
   "outputs": [
    {
     "name": "stdout",
     "output_type": "stream",
     "text": [
      "[2, 12, 30, 56, 90]\n",
      "[2, 12, 30, 56, 90]\n",
      "[2, 12, 30, 56, 90]\n"
     ]
    }
   ],
   "source": [
    "a = [1,3,5,7,9] #list\n",
    "b = [2,4,6,8,10]\n",
    "#位置 相乘 等不同方法\n",
    "\n",
    "ary = []\n",
    "for i in range(0,len(a)):\n",
    "    ary.append(a[i]*b[i])\n",
    "print(ary)\n",
    "\n",
    "#一行文\n",
    "print( [a[i]*b[i] for i in range(0,len(a)) ] )\n",
    "\n",
    "#zip 相黏\n",
    "c =[i*j for i,j in zip(a,b)]\n",
    "print(c)"
   ]
  },
  {
   "cell_type": "code",
   "execution_count": 20,
   "metadata": {},
   "outputs": [
    {
     "name": "stdout",
     "output_type": "stream",
     "text": [
      "[ 2 12 30 56 90]\n",
      "[ 3  7 11 15 19]\n"
     ]
    }
   ],
   "source": [
    "#numpy\n",
    "import numpy as np\n",
    "na =np.array(a)\n",
    "nb =np.array(b)\n",
    "print(na * nb)\n",
    "print(na + nb)\n"
   ]
  },
  {
   "cell_type": "code",
   "execution_count": 23,
   "metadata": {},
   "outputs": [
    {
     "data": {
      "text/plain": [
       "array([4, 5])"
      ]
     },
     "execution_count": 23,
     "metadata": {},
     "output_type": "execute_result"
    }
   ],
   "source": [
    "na = np.array([1,2,3,4,5])\n",
    "na[na>3]"
   ]
  },
  {
   "cell_type": "markdown",
   "metadata": {},
   "source": [
    "# Numpy 2d array"
   ]
  },
  {
   "cell_type": "code",
   "execution_count": 29,
   "metadata": {},
   "outputs": [
    {
     "name": "stdout",
     "output_type": "stream",
     "text": [
      "1\n",
      "[1 3 5 7 9]\n",
      "[1 2]\n",
      "[[ 1  2]\n",
      " [ 3  4]\n",
      " [ 5  6]\n",
      " [ 7  8]\n",
      " [ 9 10]]\n"
     ]
    }
   ],
   "source": [
    "na = np.array([[1,3,5,7,9],[2,4,6,8,10]])\n",
    "na\n",
    "\n",
    "print(na[0,0])\n",
    "print(na[0,:])\n",
    "print(na[:,0])\n",
    "print(na.T)"
   ]
  },
  {
   "cell_type": "code",
   "execution_count": 32,
   "metadata": {},
   "outputs": [
    {
     "data": {
      "text/plain": [
       "array([['frank', 'M', '29'],\n",
       "       ['tom', 'M', '35'],\n",
       "       ['lisa', 'F', '20']], \n",
       "      dtype='<U5')"
      ]
     },
     "execution_count": 32,
     "metadata": {},
     "output_type": "execute_result"
    }
   ],
   "source": [
    "na = np.array([['frank','M',29],['tom','M',35],['lisa','F',20]])\n",
    "na\n",
    "#字串最大! "
   ]
  },
  {
   "cell_type": "markdown",
   "metadata": {},
   "source": [
    "# Pandas"
   ]
  },
  {
   "cell_type": "code",
   "execution_count": 45,
   "metadata": {},
   "outputs": [
    {
     "data": {
      "text/html": [
       "<div>\n",
       "<style>\n",
       "    .dataframe thead tr:only-child th {\n",
       "        text-align: right;\n",
       "    }\n",
       "\n",
       "    .dataframe thead th {\n",
       "        text-align: left;\n",
       "    }\n",
       "\n",
       "    .dataframe tbody tr th {\n",
       "        vertical-align: top;\n",
       "    }\n",
       "</style>\n",
       "<table border=\"1\" class=\"dataframe\">\n",
       "  <thead>\n",
       "    <tr style=\"text-align: right;\">\n",
       "      <th></th>\n",
       "      <th>0</th>\n",
       "      <th>1</th>\n",
       "      <th>2</th>\n",
       "    </tr>\n",
       "  </thead>\n",
       "  <tbody>\n",
       "    <tr>\n",
       "      <th>0</th>\n",
       "      <td>frank</td>\n",
       "      <td>M</td>\n",
       "      <td>29</td>\n",
       "    </tr>\n",
       "    <tr>\n",
       "      <th>1</th>\n",
       "      <td>mary</td>\n",
       "      <td>F</td>\n",
       "      <td>23</td>\n",
       "    </tr>\n",
       "    <tr>\n",
       "      <th>2</th>\n",
       "      <td>tom</td>\n",
       "      <td>M</td>\n",
       "      <td>35</td>\n",
       "    </tr>\n",
       "    <tr>\n",
       "      <th>3</th>\n",
       "      <td>ted</td>\n",
       "      <td>M</td>\n",
       "      <td>33</td>\n",
       "    </tr>\n",
       "    <tr>\n",
       "      <th>4</th>\n",
       "      <td>jean</td>\n",
       "      <td>F</td>\n",
       "      <td>21</td>\n",
       "    </tr>\n",
       "    <tr>\n",
       "      <th>5</th>\n",
       "      <td>lisa</td>\n",
       "      <td>F</td>\n",
       "      <td>20</td>\n",
       "    </tr>\n",
       "  </tbody>\n",
       "</table>\n",
       "</div>"
      ],
      "text/plain": [
       "       0  1   2\n",
       "0  frank  M  29\n",
       "1   mary  F  23\n",
       "2    tom  M  35\n",
       "3    ted  M  33\n",
       "4   jean  F  21\n",
       "5   lisa  F  20"
      ]
     },
     "execution_count": 45,
     "metadata": {},
     "output_type": "execute_result"
    }
   ],
   "source": [
    "import pandas as pd\n",
    "df = pd.DataFrame([['frank', 'M', 29], ['mary', 'F', 23], ['tom', 'M', 35], ['ted', 'M', 33], ['jean', 'F', 21], ['lisa', 'F', 20]])\n",
    "df"
   ]
  },
  {
   "cell_type": "code",
   "execution_count": 43,
   "metadata": {},
   "outputs": [
    {
     "name": "stdout",
     "output_type": "stream",
     "text": [
      "Index(['name', 'gender', 'age'], dtype='object')\n"
     ]
    },
    {
     "data": {
      "text/html": [
       "<div>\n",
       "<style>\n",
       "    .dataframe thead tr:only-child th {\n",
       "        text-align: right;\n",
       "    }\n",
       "\n",
       "    .dataframe thead th {\n",
       "        text-align: left;\n",
       "    }\n",
       "\n",
       "    .dataframe tbody tr th {\n",
       "        vertical-align: top;\n",
       "    }\n",
       "</style>\n",
       "<table border=\"1\" class=\"dataframe\">\n",
       "  <thead>\n",
       "    <tr style=\"text-align: right;\">\n",
       "      <th></th>\n",
       "      <th>name</th>\n",
       "      <th>gender</th>\n",
       "      <th>age</th>\n",
       "    </tr>\n",
       "  </thead>\n",
       "  <tbody>\n",
       "    <tr>\n",
       "      <th>0</th>\n",
       "      <td>frank</td>\n",
       "      <td>M</td>\n",
       "      <td>29</td>\n",
       "    </tr>\n",
       "    <tr>\n",
       "      <th>1</th>\n",
       "      <td>tom</td>\n",
       "      <td>M</td>\n",
       "      <td>35</td>\n",
       "    </tr>\n",
       "    <tr>\n",
       "      <th>2</th>\n",
       "      <td>ted</td>\n",
       "      <td>M</td>\n",
       "      <td>33</td>\n",
       "    </tr>\n",
       "    <tr>\n",
       "      <th>3</th>\n",
       "      <td>lisa</td>\n",
       "      <td>F</td>\n",
       "      <td>20</td>\n",
       "    </tr>\n",
       "  </tbody>\n",
       "</table>\n",
       "</div>"
      ],
      "text/plain": [
       "    name gender  age\n",
       "0  frank      M   29\n",
       "1    tom      M   35\n",
       "2    ted      M   33\n",
       "3   lisa      F   20"
      ]
     },
     "execution_count": 43,
     "metadata": {},
     "output_type": "execute_result"
    }
   ],
   "source": [
    "print(df.columns)\n",
    "df.columns = ['name','gender','age']\n",
    "df"
   ]
  },
  {
   "cell_type": "markdown",
   "metadata": {},
   "source": [
    "# 在104 的爬蟲套用zip"
   ]
  },
  {
   "cell_type": "code",
   "execution_count": 46,
   "metadata": {},
   "outputs": [
    {
     "name": "stdout",
     "output_type": "stream",
     "text": [
      "產業類別： 電腦軟體服務業\n",
      "產業描述： 資訊軟體\n",
      "員　　工： 10人\n",
      "資 本 額： 200萬元\n",
      "聯 絡 人： 丘先生\n",
      "公司地址： 台北市中山區南京東路二段地圖\n",
      "電　　話： 暫不提供\n",
      "傳　　真： 暫不提供\n",
      "公司網址： http://www.largitdata.com\n",
      "相關連結： 更多\n",
      "\n",
      "\n",
      "\n",
      "\n",
      "\n",
      "商業司登記\n",
      "Google查公司名稱\n",
      "求職服務專線 02-2912-6104 轉2\n",
      "廠商求才專線 \n"
     ]
    }
   ],
   "source": [
    "import requests\n",
    "res = requests.get('https://www.104.com.tw/jobbank/custjob/index.php?r=cust&j=623e466f383a426b34363e673c423a1d02d2d2d70463a4e2644j50')\n",
    "res.encoding = 'utf-8'\n",
    "#print(res.encoding)\n",
    "\n",
    "\n",
    "from bs4 import BeautifulSoup\n",
    "soup = BeautifulSoup(res.text, 'html.parser')\n",
    "tag = soup.select('dt')\n",
    "description = soup.select('dd')\n",
    "for t, d in zip(tag, description):\n",
    "    print(t.text,d.text.strip())"
   ]
  },
  {
   "cell_type": "markdown",
   "metadata": {},
   "source": [
    "# Pandas Series(序列)"
   ]
  },
  {
   "cell_type": "code",
   "execution_count": 49,
   "metadata": {},
   "outputs": [
    {
     "data": {
      "text/plain": [
       "0    21000\n",
       "1    18900\n",
       "2    18000\n",
       "dtype: int64"
      ]
     },
     "execution_count": 49,
     "metadata": {},
     "output_type": "execute_result"
    }
   ],
   "source": [
    "s = pd.Series([21000,18900,18000])\n",
    "s"
   ]
  },
  {
   "cell_type": "code",
   "execution_count": 53,
   "metadata": {},
   "outputs": [
    {
     "data": {
      "text/plain": [
       "Edge S7    18900\n",
       "HTC M1     18000\n",
       "Iphone     21000\n",
       "dtype: int64"
      ]
     },
     "execution_count": 53,
     "metadata": {},
     "output_type": "execute_result"
    }
   ],
   "source": [
    "s = pd.Series({'Iphone':21000,'Edge S7':18900,'HTC M1':18000})\n",
    "s"
   ]
  },
  {
   "cell_type": "code",
   "execution_count": 54,
   "metadata": {
    "collapsed": true
   },
   "outputs": [],
   "source": [
    "dic = {}\n",
    "dic = "
   ]
  },
  {
   "cell_type": "code",
   "execution_count": 68,
   "metadata": {},
   "outputs": [
    {
     "name": "stdout",
     "output_type": "stream",
     "text": [
      "Edge S7    18900\n",
      "HTC M1     18000\n",
      "Iphone     21000\n",
      "dtype: int64\n",
      "21000\n",
      "--------------\n",
      "HTC M1    18000\n",
      "Iphone    21000\n",
      "dtype: int64\n",
      "---------------\n",
      "[Edge S7     True\n",
      "HTC M1      True\n",
      "Iphone     False\n",
      "dtype: bool]\n",
      "----------\n"
     ]
    },
    {
     "data": {
      "text/plain": [
       "21000"
      ]
     },
     "execution_count": 68,
     "metadata": {},
     "output_type": "execute_result"
    }
   ],
   "source": [
    "#篩選數值\n",
    "\n",
    "print(s)\n",
    "print(s[2])\n",
    "print('--------------')\n",
    "print(s[1:3])\n",
    "print('---------------')\n",
    "#根據價格!\n",
    "print([s<20000])\n",
    "print('----------')\n",
    "s['Iphone']\n"
   ]
  },
  {
   "cell_type": "code",
   "execution_count": 84,
   "metadata": {},
   "outputs": [
    {
     "name": "stdout",
     "output_type": "stream",
     "text": [
      "20000.0\n",
      "20000.0\n",
      "---------\n"
     ]
    },
    {
     "data": {
      "text/plain": [
       "Edge S7     6193.152\n",
       "HTC M1      5898.240\n",
       "Iphone     20000.000\n",
       "Ipone      20000.000\n",
       "dtype: float64"
      ]
     },
     "execution_count": 84,
     "metadata": {},
     "output_type": "execute_result"
    }
   ],
   "source": [
    "#修改\n",
    "\n",
    "print(s['Iphone'])\n",
    "s['Iphone'] = s['Ipone'] = 20000\n",
    "print(s['Iphone'])\n",
    "print('---------')\n",
    "s[s<20000] = s[s<20000] * 0.8\n",
    "s\n",
    "\n"
   ]
  },
  {
   "cell_type": "code",
   "execution_count": 88,
   "metadata": {},
   "outputs": [
    {
     "name": "stdout",
     "output_type": "stream",
     "text": [
      "Iphone\n"
     ]
    },
    {
     "data": {
      "text/plain": [
       "False"
      ]
     },
     "execution_count": 88,
     "metadata": {},
     "output_type": "execute_result"
    }
   ],
   "source": [
    "print('Iphone') in s"
   ]
  },
  {
   "cell_type": "markdown",
   "metadata": {},
   "source": [
    "# 數學計算"
   ]
  },
  {
   "cell_type": "code",
   "execution_count": 89,
   "metadata": {},
   "outputs": [
    {
     "data": {
      "text/plain": [
       "Edge S7     78.696582\n",
       "HTC M1      76.800000\n",
       "Iphone     141.421356\n",
       "Ipone      141.421356\n",
       "dtype: float64"
      ]
     },
     "execution_count": 89,
     "metadata": {},
     "output_type": "execute_result"
    }
   ],
   "source": [
    "import numpy as np\n",
    "np.sqrt(s)"
   ]
  },
  {
   "cell_type": "code",
   "execution_count": 91,
   "metadata": {},
   "outputs": [
    {
     "data": {
      "text/plain": [
       "count        4.000000\n",
       "mean     13022.848000\n",
       "std       8057.420734\n",
       "min       5898.240000\n",
       "25%       6119.424000\n",
       "50%      13096.576000\n",
       "75%      20000.000000\n",
       "max      20000.000000\n",
       "dtype: float64"
      ]
     },
     "execution_count": 91,
     "metadata": {},
     "output_type": "execute_result"
    }
   ],
   "source": [
    "s.describe()   #敘述性統計"
   ]
  },
  {
   "cell_type": "code",
   "execution_count": 93,
   "metadata": {},
   "outputs": [
    {
     "data": {
      "text/plain": [
       "mi            NaN\n",
       "HTC M1    5898.24\n",
       "dtype: float64"
      ]
     },
     "execution_count": 93,
     "metadata": {},
     "output_type": "execute_result"
    }
   ],
   "source": [
    "s[['mi','HTC M1']]\n",
    "#Nan= not a number   =  null"
   ]
  },
  {
   "cell_type": "code",
   "execution_count": 98,
   "metadata": {},
   "outputs": [
    {
     "data": {
      "text/plain": [
       "mi             NaN\n",
       "HTC M1    11796.48\n",
       "dtype: float64"
      ]
     },
     "execution_count": 98,
     "metadata": {},
     "output_type": "execute_result"
    }
   ],
   "source": [
    "s2 = s[['mi','HTC M1']]+s[['mi','HTC M1']]\n",
    "s2"
   ]
  },
  {
   "cell_type": "code",
   "execution_count": 103,
   "metadata": {},
   "outputs": [
    {
     "name": "stdout",
     "output_type": "stream",
     "text": [
      "mi        False\n",
      "HTC M1     True\n",
      "dtype: bool\n"
     ]
    },
    {
     "data": {
      "text/plain": [
       "mi         True\n",
       "HTC M1    False\n",
       "dtype: bool"
      ]
     },
     "execution_count": 103,
     "metadata": {},
     "output_type": "execute_result"
    }
   ],
   "source": [
    "#檢查是否有空值\n",
    "\n",
    "#檢查非空值\n",
    "print(s2.notnull())\n",
    "\n",
    "#檢查空值\n",
    "s2.isnull()"
   ]
  },
  {
   "cell_type": "code",
   "execution_count": 104,
   "metadata": {
    "collapsed": true
   },
   "outputs": [],
   "source": [
    "#拉出資料"
   ]
  },
  {
   "cell_type": "code",
   "execution_count": 106,
   "metadata": {},
   "outputs": [
    {
     "data": {
      "text/plain": [
       "HTC M1    11796.48\n",
       "dtype: float64"
      ]
     },
     "execution_count": 106,
     "metadata": {},
     "output_type": "execute_result"
    }
   ],
   "source": [
    "#拉出非空值資料\n",
    "s2[s2.notnull()]"
   ]
  },
  {
   "cell_type": "markdown",
   "metadata": {},
   "source": [
    "# Pandas DataFrame"
   ]
  },
  {
   "cell_type": "code",
   "execution_count": 108,
   "metadata": {},
   "outputs": [
    {
     "data": {
      "text/html": [
       "<div>\n",
       "<style>\n",
       "    .dataframe thead tr:only-child th {\n",
       "        text-align: right;\n",
       "    }\n",
       "\n",
       "    .dataframe thead th {\n",
       "        text-align: left;\n",
       "    }\n",
       "\n",
       "    .dataframe tbody tr th {\n",
       "        vertical-align: top;\n",
       "    }\n",
       "</style>\n",
       "<table border=\"1\" class=\"dataframe\">\n",
       "  <thead>\n",
       "    <tr style=\"text-align: right;\">\n",
       "      <th></th>\n",
       "      <th>age</th>\n",
       "      <th>gender</th>\n",
       "      <th>name</th>\n",
       "    </tr>\n",
       "  </thead>\n",
       "  <tbody>\n",
       "    <tr>\n",
       "      <th>0</th>\n",
       "      <td>29</td>\n",
       "      <td>M</td>\n",
       "      <td>frank</td>\n",
       "    </tr>\n",
       "    <tr>\n",
       "      <th>1</th>\n",
       "      <td>23</td>\n",
       "      <td>F</td>\n",
       "      <td>mary</td>\n",
       "    </tr>\n",
       "    <tr>\n",
       "      <th>2</th>\n",
       "      <td>35</td>\n",
       "      <td>M</td>\n",
       "      <td>tom</td>\n",
       "    </tr>\n",
       "    <tr>\n",
       "      <th>3</th>\n",
       "      <td>33</td>\n",
       "      <td>M</td>\n",
       "      <td>ted</td>\n",
       "    </tr>\n",
       "    <tr>\n",
       "      <th>4</th>\n",
       "      <td>21</td>\n",
       "      <td>F</td>\n",
       "      <td>jean</td>\n",
       "    </tr>\n",
       "    <tr>\n",
       "      <th>5</th>\n",
       "      <td>20</td>\n",
       "      <td>F</td>\n",
       "      <td>lisa</td>\n",
       "    </tr>\n",
       "  </tbody>\n",
       "</table>\n",
       "</div>"
      ],
      "text/plain": [
       "   age gender   name\n",
       "0   29      M  frank\n",
       "1   23      F   mary\n",
       "2   35      M    tom\n",
       "3   33      M    ted\n",
       "4   21      F   jean\n",
       "5   20      F   lisa"
      ]
     },
     "execution_count": 108,
     "metadata": {},
     "output_type": "execute_result"
    }
   ],
   "source": [
    "import pandas as pd\n",
    "#使用字典方式建立較為推薦\n",
    "df = pd.DataFrame([{'name':'frank', 'gender':'M', 'age':29}, \\\n",
    "                   {'name':'mary',  'gender':'F', 'age':23}, \\\n",
    "                   {'name':'tom',   'gender':'M', 'age':35}, \\\n",
    "                   {'name':'ted',   'gender':'M', 'age':33}, \\\n",
    "                   {'name':'jean',  'gender':'F', 'age':21}, \\\n",
    "                   {'name':'lisa',  'gender':'F', 'age':20}])\n",
    "df"
   ]
  },
  {
   "cell_type": "code",
   "execution_count": 116,
   "metadata": {},
   "outputs": [
    {
     "data": {
      "text/html": [
       "<div>\n",
       "<style>\n",
       "    .dataframe thead tr:only-child th {\n",
       "        text-align: right;\n",
       "    }\n",
       "\n",
       "    .dataframe thead th {\n",
       "        text-align: left;\n",
       "    }\n",
       "\n",
       "    .dataframe tbody tr th {\n",
       "        vertical-align: top;\n",
       "    }\n",
       "</style>\n",
       "<table border=\"1\" class=\"dataframe\">\n",
       "  <thead>\n",
       "    <tr style=\"text-align: right;\">\n",
       "      <th></th>\n",
       "      <th>age</th>\n",
       "      <th>gender</th>\n",
       "      <th>marriage</th>\n",
       "      <th>name</th>\n",
       "    </tr>\n",
       "  </thead>\n",
       "  <tbody>\n",
       "    <tr>\n",
       "      <th>0</th>\n",
       "      <td>29</td>\n",
       "      <td>M</td>\n",
       "      <td>NaN</td>\n",
       "      <td>frank</td>\n",
       "    </tr>\n",
       "    <tr>\n",
       "      <th>1</th>\n",
       "      <td>23</td>\n",
       "      <td>F</td>\n",
       "      <td>yes</td>\n",
       "      <td>mary</td>\n",
       "    </tr>\n",
       "    <tr>\n",
       "      <th>2</th>\n",
       "      <td>35</td>\n",
       "      <td>M</td>\n",
       "      <td>NaN</td>\n",
       "      <td>tom</td>\n",
       "    </tr>\n",
       "  </tbody>\n",
       "</table>\n",
       "</div>"
      ],
      "text/plain": [
       "   age gender marriage   name\n",
       "0   29      M      NaN  frank\n",
       "1   23      F      yes   mary\n",
       "2   35      M      NaN    tom"
      ]
     },
     "execution_count": 116,
     "metadata": {},
     "output_type": "execute_result"
    }
   ],
   "source": [
    "#自動補欄位\n",
    "df = pd.DataFrame([{'name':'frank', 'gender':'M', 'age':29}, \\\n",
    "                   {'name':'mary',  'gender':'F', 'age':23,'marriage':'yes'}, \\\n",
    "                   {'name':'tom',   'gender':'M', 'age':35}])\n",
    "df"
   ]
  },
  {
   "cell_type": "markdown",
   "metadata": {},
   "source": [
    "# 整理三大法人交易資料"
   ]
  },
  {
   "cell_type": "code",
   "execution_count": 141,
   "metadata": {},
   "outputs": [
    {
     "data": {
      "text/html": [
       "<div>\n",
       "<style>\n",
       "    .dataframe thead tr:only-child th {\n",
       "        text-align: right;\n",
       "    }\n",
       "\n",
       "    .dataframe thead th {\n",
       "        text-align: left;\n",
       "    }\n",
       "\n",
       "    .dataframe tbody tr th {\n",
       "        vertical-align: top;\n",
       "    }\n",
       "</style>\n",
       "<table border=\"1\" class=\"dataframe\">\n",
       "  <thead>\n",
       "    <tr style=\"text-align: right;\">\n",
       "      <th></th>\n",
       "      <th>0</th>\n",
       "      <th>1</th>\n",
       "      <th>2</th>\n",
       "      <th>3</th>\n",
       "    </tr>\n",
       "  </thead>\n",
       "  <tbody>\n",
       "    <tr>\n",
       "      <th>0</th>\n",
       "      <td>自營商(自行買賣)</td>\n",
       "      <td>1,025,069,400</td>\n",
       "      <td>850,792,577</td>\n",
       "      <td>174,276,823</td>\n",
       "    </tr>\n",
       "    <tr>\n",
       "      <th>1</th>\n",
       "      <td>自營商(避險)</td>\n",
       "      <td>4,591,078,711</td>\n",
       "      <td>4,949,618,576</td>\n",
       "      <td>-358,539,865</td>\n",
       "    </tr>\n",
       "    <tr>\n",
       "      <th>2</th>\n",
       "      <td>投信</td>\n",
       "      <td>703,309,860</td>\n",
       "      <td>869,642,577</td>\n",
       "      <td>-166,332,717</td>\n",
       "    </tr>\n",
       "    <tr>\n",
       "      <th>3</th>\n",
       "      <td>外資及陸資</td>\n",
       "      <td>18,946,611,191</td>\n",
       "      <td>23,751,447,432</td>\n",
       "      <td>-4,804,836,241</td>\n",
       "    </tr>\n",
       "    <tr>\n",
       "      <th>4</th>\n",
       "      <td>合計</td>\n",
       "      <td>25,266,069,162</td>\n",
       "      <td>30,421,501,162</td>\n",
       "      <td>-5,155,432,000</td>\n",
       "    </tr>\n",
       "  </tbody>\n",
       "</table>\n",
       "</div>"
      ],
      "text/plain": [
       "           0               1               2               3\n",
       "0  自營商(自行買賣)   1,025,069,400     850,792,577     174,276,823\n",
       "1    自營商(避險)   4,591,078,711   4,949,618,576    -358,539,865\n",
       "2         投信     703,309,860     869,642,577    -166,332,717\n",
       "3      外資及陸資  18,946,611,191  23,751,447,432  -4,804,836,241\n",
       "4         合計  25,266,069,162  30,421,501,162  -5,155,432,000"
      ]
     },
     "execution_count": 141,
     "metadata": {},
     "output_type": "execute_result"
    }
   ],
   "source": [
    "import requests\n",
    "res = requests.get('http://www.twse.com.tw/fund/BFI82U?response=json&dayDate=&weekDate=&monthDate=&type=day&_=1503112639075')\n",
    "res.json()\n",
    "res.json()['data']\n",
    "df = pd.DataFrame(res.json()['data'])\n",
    "#df.columns=['類別','數值','數值','數值']\n",
    "df\n",
    "\n"
   ]
  },
  {
   "cell_type": "code",
   "execution_count": 137,
   "metadata": {},
   "outputs": [
    {
     "data": {
      "text/html": [
       "<div>\n",
       "<style>\n",
       "    .dataframe thead tr:only-child th {\n",
       "        text-align: right;\n",
       "    }\n",
       "\n",
       "    .dataframe thead th {\n",
       "        text-align: left;\n",
       "    }\n",
       "\n",
       "    .dataframe tbody tr th {\n",
       "        vertical-align: top;\n",
       "    }\n",
       "</style>\n",
       "<table border=\"1\" class=\"dataframe\">\n",
       "  <thead>\n",
       "    <tr style=\"text-align: right;\">\n",
       "      <th></th>\n",
       "      <th>類別</th>\n",
       "      <th>數值</th>\n",
       "      <th>數值</th>\n",
       "      <th>數值</th>\n",
       "    </tr>\n",
       "  </thead>\n",
       "  <tbody>\n",
       "    <tr>\n",
       "      <th>0</th>\n",
       "      <td>自營商(自行買賣)</td>\n",
       "      <td>1,025,069,400</td>\n",
       "      <td>850,792,577</td>\n",
       "      <td>174,276,823</td>\n",
       "    </tr>\n",
       "    <tr>\n",
       "      <th>1</th>\n",
       "      <td>自營商(避險)</td>\n",
       "      <td>4,591,078,711</td>\n",
       "      <td>4,949,618,576</td>\n",
       "      <td>-358,539,865</td>\n",
       "    </tr>\n",
       "    <tr>\n",
       "      <th>2</th>\n",
       "      <td>投信</td>\n",
       "      <td>703,309,860</td>\n",
       "      <td>869,642,577</td>\n",
       "      <td>-166,332,717</td>\n",
       "    </tr>\n",
       "    <tr>\n",
       "      <th>3</th>\n",
       "      <td>外資及陸資</td>\n",
       "      <td>18,946,611,191</td>\n",
       "      <td>23,751,447,432</td>\n",
       "      <td>-4,804,836,241</td>\n",
       "    </tr>\n",
       "    <tr>\n",
       "      <th>4</th>\n",
       "      <td>合計</td>\n",
       "      <td>25,266,069,162</td>\n",
       "      <td>30,421,501,162</td>\n",
       "      <td>-5,155,432,000</td>\n",
       "    </tr>\n",
       "  </tbody>\n",
       "</table>\n",
       "</div>"
      ],
      "text/plain": [
       "          類別              數值              數值              數值\n",
       "0  自營商(自行買賣)   1,025,069,400     850,792,577     174,276,823\n",
       "1    自營商(避險)   4,591,078,711   4,949,618,576    -358,539,865\n",
       "2         投信     703,309,860     869,642,577    -166,332,717\n",
       "3      外資及陸資  18,946,611,191  23,751,447,432  -4,804,836,241\n",
       "4         合計  25,266,069,162  30,421,501,162  -5,155,432,000"
      ]
     },
     "execution_count": 137,
     "metadata": {},
     "output_type": "execute_result"
    }
   ],
   "source": [
    "df.head()"
   ]
  },
  {
   "cell_type": "code",
   "execution_count": 143,
   "metadata": {},
   "outputs": [
    {
     "data": {
      "text/html": [
       "<div>\n",
       "<style>\n",
       "    .dataframe thead tr:only-child th {\n",
       "        text-align: right;\n",
       "    }\n",
       "\n",
       "    .dataframe thead th {\n",
       "        text-align: left;\n",
       "    }\n",
       "\n",
       "    .dataframe tbody tr th {\n",
       "        vertical-align: top;\n",
       "    }\n",
       "</style>\n",
       "<table border=\"1\" class=\"dataframe\">\n",
       "  <thead>\n",
       "    <tr style=\"text-align: right;\">\n",
       "      <th></th>\n",
       "      <th>0</th>\n",
       "      <th>1</th>\n",
       "      <th>2</th>\n",
       "      <th>3</th>\n",
       "    </tr>\n",
       "  </thead>\n",
       "  <tbody>\n",
       "    <tr>\n",
       "      <th>count</th>\n",
       "      <td>5</td>\n",
       "      <td>5</td>\n",
       "      <td>5</td>\n",
       "      <td>5</td>\n",
       "    </tr>\n",
       "    <tr>\n",
       "      <th>unique</th>\n",
       "      <td>5</td>\n",
       "      <td>5</td>\n",
       "      <td>5</td>\n",
       "      <td>5</td>\n",
       "    </tr>\n",
       "    <tr>\n",
       "      <th>top</th>\n",
       "      <td>外資及陸資</td>\n",
       "      <td>703,309,860</td>\n",
       "      <td>869,642,577</td>\n",
       "      <td>-166,332,717</td>\n",
       "    </tr>\n",
       "    <tr>\n",
       "      <th>freq</th>\n",
       "      <td>1</td>\n",
       "      <td>1</td>\n",
       "      <td>1</td>\n",
       "      <td>1</td>\n",
       "    </tr>\n",
       "  </tbody>\n",
       "</table>\n",
       "</div>"
      ],
      "text/plain": [
       "            0            1            2             3\n",
       "count       5            5            5             5\n",
       "unique      5            5            5             5\n",
       "top     外資及陸資  703,309,860  869,642,577  -166,332,717\n",
       "freq        1            1            1             1"
      ]
     },
     "execution_count": 143,
     "metadata": {},
     "output_type": "execute_result"
    }
   ],
   "source": [
    "df.describe()"
   ]
  },
  {
   "cell_type": "code",
   "execution_count": 147,
   "metadata": {},
   "outputs": [
    {
     "data": {
      "text/html": [
       "<div>\n",
       "<style>\n",
       "    .dataframe thead tr:only-child th {\n",
       "        text-align: right;\n",
       "    }\n",
       "\n",
       "    .dataframe thead th {\n",
       "        text-align: left;\n",
       "    }\n",
       "\n",
       "    .dataframe tbody tr th {\n",
       "        vertical-align: top;\n",
       "    }\n",
       "</style>\n",
       "<table border=\"1\" class=\"dataframe\">\n",
       "  <thead>\n",
       "    <tr style=\"text-align: right;\">\n",
       "      <th></th>\n",
       "      <th>0</th>\n",
       "      <th>1</th>\n",
       "      <th>2</th>\n",
       "      <th>3</th>\n",
       "    </tr>\n",
       "  </thead>\n",
       "  <tbody>\n",
       "    <tr>\n",
       "      <th>1</th>\n",
       "      <td>自營商(避險)</td>\n",
       "      <td>4,591,078,711</td>\n",
       "      <td>4,949,618,576</td>\n",
       "      <td>-358,539,865</td>\n",
       "    </tr>\n",
       "    <tr>\n",
       "      <th>2</th>\n",
       "      <td>投信</td>\n",
       "      <td>703,309,860</td>\n",
       "      <td>869,642,577</td>\n",
       "      <td>-166,332,717</td>\n",
       "    </tr>\n",
       "    <tr>\n",
       "      <th>3</th>\n",
       "      <td>外資及陸資</td>\n",
       "      <td>18,946,611,191</td>\n",
       "      <td>23,751,447,432</td>\n",
       "      <td>-4,804,836,241</td>\n",
       "    </tr>\n",
       "    <tr>\n",
       "      <th>4</th>\n",
       "      <td>合計</td>\n",
       "      <td>25,266,069,162</td>\n",
       "      <td>30,421,501,162</td>\n",
       "      <td>-5,155,432,000</td>\n",
       "    </tr>\n",
       "  </tbody>\n",
       "</table>\n",
       "</div>"
      ],
      "text/plain": [
       "         0               1               2               3\n",
       "1  自營商(避險)   4,591,078,711   4,949,618,576    -358,539,865\n",
       "2       投信     703,309,860     869,642,577    -166,332,717\n",
       "3    外資及陸資  18,946,611,191  23,751,447,432  -4,804,836,241\n",
       "4       合計  25,266,069,162  30,421,501,162  -5,155,432,000"
      ]
     },
     "execution_count": 147,
     "metadata": {},
     "output_type": "execute_result"
    }
   ],
   "source": [
    "df.ix[1:4]\n",
    "#ix 標籤索引"
   ]
  },
  {
   "cell_type": "code",
   "execution_count": 150,
   "metadata": {},
   "outputs": [
    {
     "data": {
      "text/html": [
       "<div>\n",
       "<style>\n",
       "    .dataframe thead tr:only-child th {\n",
       "        text-align: right;\n",
       "    }\n",
       "\n",
       "    .dataframe thead th {\n",
       "        text-align: left;\n",
       "    }\n",
       "\n",
       "    .dataframe tbody tr th {\n",
       "        vertical-align: top;\n",
       "    }\n",
       "</style>\n",
       "<table border=\"1\" class=\"dataframe\">\n",
       "  <thead>\n",
       "    <tr style=\"text-align: right;\">\n",
       "      <th></th>\n",
       "      <th>age</th>\n",
       "      <th>gender</th>\n",
       "      <th>name</th>\n",
       "    </tr>\n",
       "  </thead>\n",
       "  <tbody>\n",
       "    <tr>\n",
       "      <th>0</th>\n",
       "      <td>29</td>\n",
       "      <td>M</td>\n",
       "      <td>frank</td>\n",
       "    </tr>\n",
       "    <tr>\n",
       "      <th>1</th>\n",
       "      <td>23</td>\n",
       "      <td>F</td>\n",
       "      <td>mary</td>\n",
       "    </tr>\n",
       "    <tr>\n",
       "      <th>2</th>\n",
       "      <td>35</td>\n",
       "      <td>M</td>\n",
       "      <td>tom</td>\n",
       "    </tr>\n",
       "    <tr>\n",
       "      <th>3</th>\n",
       "      <td>33</td>\n",
       "      <td>M</td>\n",
       "      <td>ted</td>\n",
       "    </tr>\n",
       "    <tr>\n",
       "      <th>4</th>\n",
       "      <td>21</td>\n",
       "      <td>F</td>\n",
       "      <td>jean</td>\n",
       "    </tr>\n",
       "    <tr>\n",
       "      <th>5</th>\n",
       "      <td>20</td>\n",
       "      <td>F</td>\n",
       "      <td>lisa</td>\n",
       "    </tr>\n",
       "  </tbody>\n",
       "</table>\n",
       "</div>"
      ],
      "text/plain": [
       "   age gender   name\n",
       "0   29      M  frank\n",
       "1   23      F   mary\n",
       "2   35      M    tom\n",
       "3   33      M    ted\n",
       "4   21      F   jean\n",
       "5   20      F   lisa"
      ]
     },
     "execution_count": 150,
     "metadata": {},
     "output_type": "execute_result"
    }
   ],
   "source": [
    "df = pd.DataFrame([{'name':'frank', 'gender':'M', 'age':29}, \\\n",
    "                   {'name':'mary',  'gender':'F', 'age':23}, \\\n",
    "                   {'name':'tom',   'gender':'M', 'age':35}, \\\n",
    "                   {'name':'ted',   'gender':'M', 'age':33}, \\\n",
    "                   {'name':'jean',  'gender':'F', 'age':21}, \\\n",
    "                   {'name':'lisa',  'gender':'F', 'age':20}])\n",
    "df"
   ]
  },
  {
   "cell_type": "markdown",
   "metadata": {},
   "source": [
    "# 數據轉換"
   ]
  },
  {
   "cell_type": "markdown",
   "metadata": {},
   "source": [
    "# 檔案下載 "
   ]
  },
  {
   "cell_type": "code",
   "execution_count": 155,
   "metadata": {
    "collapsed": true
   },
   "outputs": [],
   "source": [
    "import requests\n",
    "res = requests.get('https://raw.githubusercontent.com/ywchiu/tibamepy/master/data/rent_591_sample.csv')\n",
    "with open('rent_591_sample.csv','wb') as f:    #W=寫 B=任何方式\n",
    "    f.write(res.content)\n"
   ]
  },
  {
   "cell_type": "code",
   "execution_count": 158,
   "metadata": {
    "scrolled": true
   },
   "outputs": [
    {
     "name": "stdout",
     "output_type": "stream",
     "text": [
      " 磁碟區 C 中的磁碟是 OS\n",
      " 磁碟區序號:  8643-363E\n",
      "\n",
      " C:\\Users\\USER 的目錄\n",
      "\n",
      "2017/08/19  下午 01:53    <DIR>          .\n",
      "2017/08/19  下午 01:53    <DIR>          ..\n",
      "2017/08/12  下午 01:13    <DIR>          .anaconda\n",
      "2017/08/12  下午 05:41    <DIR>          .conda\n",
      "2017/08/12  下午 01:13                43 .condarc\n",
      "2017/08/19  上午 09:41    <DIR>          .ipynb_checkpoints\n",
      "2017/08/12  上午 10:55    <DIR>          .ipython\n",
      "2017/08/12  下午 04:10    <DIR>          .jupyter\n",
      "2017/08/19  上午 10:14    <DIR>          .matplotlib\n",
      "2016/07/14  下午 06:07    <DIR>          .oracle_jre_usage\n",
      "2017/08/12  下午 02:25    <DIR>          .spyder-py3\n",
      "2017/08/13  上午 11:39            41,954 20170812.ipynb\n",
      "2017/08/13  下午 05:37           339,026 20170813.ipynb\n",
      "2017/08/19  下午 01:53            34,660 20170819.ipynb\n",
      "2017/08/13  上午 11:13               468 2330.json\n",
      "2017/08/12  下午 01:14    <DIR>          AnacondaProjects\n",
      "2017/08/13  上午 09:32             2,395 cnn.txt\n",
      "2015/02/12  下午 01:12    <DIR>          Contacts\n",
      "2017/08/13  上午 11:39    <DIR>          Desktop\n",
      "2015/02/12  下午 01:12    <DIR>          Documents\n",
      "2017/08/19  下午 12:53    <DIR>          Downloads\n",
      "2017/08/13  上午 11:10           728,381 eps.xlsx\n",
      "2015/02/12  下午 01:12    <DIR>          Favorites\n",
      "2015/02/10  下午 03:04    <DIR>          Intel\n",
      "2017/08/13  上午 11:07    <DIR>          Links\n",
      "2015/02/12  下午 01:12    <DIR>          Music\n",
      "2017/08/13  上午 11:03             1,055 phone.jpg\n",
      "2015/02/12  下午 01:12    <DIR>          Pictures\n",
      "2017/08/19  下午 01:54        15,424,596 rent_591_sample.csv\n",
      "2015/02/12  下午 01:12    <DIR>          Saved Games\n",
      "2015/02/12  下午 01:12    <DIR>          Searches\n",
      "2017/08/12  下午 05:18                12 test.txt\n",
      "2017/08/12  下午 01:32               157 untitled3.py\n",
      "2015/02/12  下午 01:12    <DIR>          Videos\n",
      "              11 個檔案      16,572,747 位元組\n",
      "              23 個目錄  71,809,409,024 位元組可用\n"
     ]
    }
   ],
   "source": [
    "%ls"
   ]
  },
  {
   "cell_type": "code",
   "execution_count": 174,
   "metadata": {},
   "outputs": [
    {
     "name": "stdout",
     "output_type": "stream",
     "text": [
      "<class 'pandas.core.frame.DataFrame'>\n",
      "Int64Index: 70315 entries, 0 to 70314\n",
      "Data columns (total 11 columns):\n",
      "detail_url       70315 non-null object\n",
      "search_date      70315 non-null object\n",
      "title            70315 non-null object\n",
      "address          70315 non-null object\n",
      "floor_info       69686 non-null object\n",
      "price            70315 non-null object\n",
      "layout           22630 non-null object\n",
      "building_area    70315 non-null float64\n",
      "building_use     65330 non-null object\n",
      "latitude         70315 non-null float64\n",
      "longitude        70315 non-null float64\n",
      "dtypes: float64(3), object(8)\n",
      "memory usage: 6.4+ MB\n"
     ]
    },
    {
     "data": {
      "text/html": [
       "<div>\n",
       "<style>\n",
       "    .dataframe thead tr:only-child th {\n",
       "        text-align: right;\n",
       "    }\n",
       "\n",
       "    .dataframe thead th {\n",
       "        text-align: left;\n",
       "    }\n",
       "\n",
       "    .dataframe tbody tr th {\n",
       "        vertical-align: top;\n",
       "    }\n",
       "</style>\n",
       "<table border=\"1\" class=\"dataframe\">\n",
       "  <thead>\n",
       "    <tr style=\"text-align: right;\">\n",
       "      <th></th>\n",
       "      <th>detail_url</th>\n",
       "      <th>search_date</th>\n",
       "      <th>title</th>\n",
       "      <th>address</th>\n",
       "      <th>floor_info</th>\n",
       "      <th>price</th>\n",
       "      <th>layout</th>\n",
       "      <th>building_area</th>\n",
       "      <th>building_use</th>\n",
       "      <th>latitude</th>\n",
       "      <th>longitude</th>\n",
       "    </tr>\n",
       "  </thead>\n",
       "  <tbody>\n",
       "    <tr>\n",
       "      <th>0</th>\n",
       "      <td>https://rent.591.com.tw/rent-detail-1050934.html</td>\n",
       "      <td>2017-05-14</td>\n",
       "      <td>套房出租-近東方學院(六~八月可入住)</td>\n",
       "      <td>高雄市湖內區民生街</td>\n",
       "      <td>3F/3F</td>\n",
       "      <td>4,500元/月</td>\n",
       "      <td>NaN</td>\n",
       "      <td>6.0</td>\n",
       "      <td>透天厝/獨立套房</td>\n",
       "      <td>22.878436</td>\n",
       "      <td>120.250810</td>\n",
       "    </tr>\n",
       "    <tr>\n",
       "      <th>1</th>\n",
       "      <td>https://rent.591.com.tw/rent-detail-1008046.html</td>\n",
       "      <td>2017-05-14</td>\n",
       "      <td>好房子【聰明的你、妳快來租吧】</td>\n",
       "      <td>新北市蘆洲區長安街</td>\n",
       "      <td>4F/5F</td>\n",
       "      <td>7,500元/月</td>\n",
       "      <td>NaN</td>\n",
       "      <td>10.0</td>\n",
       "      <td>透天厝/獨立套房</td>\n",
       "      <td>25.081558</td>\n",
       "      <td>121.461868</td>\n",
       "    </tr>\n",
       "    <tr>\n",
       "      <th>2</th>\n",
       "      <td>https://rent.591.com.tw/rent-detail-1586266.html</td>\n",
       "      <td>2017-05-12</td>\n",
       "      <td>陽台大套房(獨立洗衣機)近頂溪捷運站</td>\n",
       "      <td>新北市永和區中山路一段</td>\n",
       "      <td>8F/12F</td>\n",
       "      <td>11,000元/月</td>\n",
       "      <td>NaN</td>\n",
       "      <td>8.0</td>\n",
       "      <td>電梯大樓/分租套房</td>\n",
       "      <td>25.010293</td>\n",
       "      <td>121.511328</td>\n",
       "    </tr>\n",
       "  </tbody>\n",
       "</table>\n",
       "</div>"
      ],
      "text/plain": [
       "                                         detail_url search_date  \\\n",
       "0  https://rent.591.com.tw/rent-detail-1050934.html  2017-05-14   \n",
       "1  https://rent.591.com.tw/rent-detail-1008046.html  2017-05-14   \n",
       "2  https://rent.591.com.tw/rent-detail-1586266.html  2017-05-12   \n",
       "\n",
       "                 title      address floor_info      price layout  \\\n",
       "0  套房出租-近東方學院(六~八月可入住)    高雄市湖內區民生街      3F/3F   4,500元/月    NaN   \n",
       "1      好房子【聰明的你、妳快來租吧】    新北市蘆洲區長安街      4F/5F   7,500元/月    NaN   \n",
       "2   陽台大套房(獨立洗衣機)近頂溪捷運站  新北市永和區中山路一段     8F/12F  11,000元/月    NaN   \n",
       "\n",
       "   building_area building_use   latitude   longitude  \n",
       "0            6.0     透天厝/獨立套房  22.878436  120.250810  \n",
       "1           10.0     透天厝/獨立套房  25.081558  121.461868  \n",
       "2            8.0    電梯大樓/分租套房  25.010293  121.511328  "
      ]
     },
     "execution_count": 174,
     "metadata": {},
     "output_type": "execute_result"
    }
   ],
   "source": [
    "import pandas\n",
    "df = pandas.read_csv('rent_591_sample.csv',encoding='utf-8',index_col=0)\n",
    "df.info()\n",
    "df.head(3)"
   ]
  },
  {
   "cell_type": "code",
   "execution_count": 176,
   "metadata": {},
   "outputs": [
    {
     "data": {
      "text/plain": [
       "Index(['detail_url', 'search_date', 'title', 'address', 'floor_info', 'price',\n",
       "       'layout', 'building_area', 'building_use', 'latitude', 'longitude'],\n",
       "      dtype='object')"
      ]
     },
     "execution_count": 176,
     "metadata": {},
     "output_type": "execute_result"
    }
   ],
   "source": [
    "df.columns"
   ]
  },
  {
   "cell_type": "code",
   "execution_count": 188,
   "metadata": {},
   "outputs": [
    {
     "data": {
      "text/html": [
       "<div>\n",
       "<style>\n",
       "    .dataframe thead tr:only-child th {\n",
       "        text-align: right;\n",
       "    }\n",
       "\n",
       "    .dataframe thead th {\n",
       "        text-align: left;\n",
       "    }\n",
       "\n",
       "    .dataframe tbody tr th {\n",
       "        vertical-align: top;\n",
       "    }\n",
       "</style>\n",
       "<table border=\"1\" class=\"dataframe\">\n",
       "  <thead>\n",
       "    <tr style=\"text-align: right;\">\n",
       "      <th></th>\n",
       "      <th>detail_url</th>\n",
       "      <th>search_date</th>\n",
       "      <th>title</th>\n",
       "      <th>address</th>\n",
       "      <th>floor_info</th>\n",
       "      <th>price</th>\n",
       "      <th>layout</th>\n",
       "      <th>building_area</th>\n",
       "      <th>building_use</th>\n",
       "      <th>latitude</th>\n",
       "      <th>longitude</th>\n",
       "      <th>square_feet</th>\n",
       "    </tr>\n",
       "  </thead>\n",
       "  <tbody>\n",
       "    <tr>\n",
       "      <th>0</th>\n",
       "      <td>https://rent.591.com.tw/rent-detail-1050934.html</td>\n",
       "      <td>2017-05-14</td>\n",
       "      <td>套房出租-近東方學院(六~八月可入住)</td>\n",
       "      <td>高雄市湖內區民生街</td>\n",
       "      <td>3F/3F</td>\n",
       "      <td>4,500元/月</td>\n",
       "      <td>NaN</td>\n",
       "      <td>6.0</td>\n",
       "      <td>透天厝/獨立套房</td>\n",
       "      <td>22.878436</td>\n",
       "      <td>120.250810</td>\n",
       "      <td>19.834711</td>\n",
       "    </tr>\n",
       "    <tr>\n",
       "      <th>1</th>\n",
       "      <td>https://rent.591.com.tw/rent-detail-1008046.html</td>\n",
       "      <td>2017-05-14</td>\n",
       "      <td>好房子【聰明的你、妳快來租吧】</td>\n",
       "      <td>新北市蘆洲區長安街</td>\n",
       "      <td>4F/5F</td>\n",
       "      <td>7,500元/月</td>\n",
       "      <td>NaN</td>\n",
       "      <td>10.0</td>\n",
       "      <td>透天厝/獨立套房</td>\n",
       "      <td>25.081558</td>\n",
       "      <td>121.461868</td>\n",
       "      <td>33.057851</td>\n",
       "    </tr>\n",
       "    <tr>\n",
       "      <th>2</th>\n",
       "      <td>https://rent.591.com.tw/rent-detail-1586266.html</td>\n",
       "      <td>2017-05-12</td>\n",
       "      <td>陽台大套房(獨立洗衣機)近頂溪捷運站</td>\n",
       "      <td>新北市永和區中山路一段</td>\n",
       "      <td>8F/12F</td>\n",
       "      <td>11,000元/月</td>\n",
       "      <td>NaN</td>\n",
       "      <td>8.0</td>\n",
       "      <td>電梯大樓/分租套房</td>\n",
       "      <td>25.010293</td>\n",
       "      <td>121.511328</td>\n",
       "      <td>26.446281</td>\n",
       "    </tr>\n",
       "  </tbody>\n",
       "</table>\n",
       "</div>"
      ],
      "text/plain": [
       "                                         detail_url search_date  \\\n",
       "0  https://rent.591.com.tw/rent-detail-1050934.html  2017-05-14   \n",
       "1  https://rent.591.com.tw/rent-detail-1008046.html  2017-05-14   \n",
       "2  https://rent.591.com.tw/rent-detail-1586266.html  2017-05-12   \n",
       "\n",
       "                 title      address floor_info      price layout  \\\n",
       "0  套房出租-近東方學院(六~八月可入住)    高雄市湖內區民生街      3F/3F   4,500元/月    NaN   \n",
       "1      好房子【聰明的你、妳快來租吧】    新北市蘆洲區長安街      4F/5F   7,500元/月    NaN   \n",
       "2   陽台大套房(獨立洗衣機)近頂溪捷運站  新北市永和區中山路一段     8F/12F  11,000元/月    NaN   \n",
       "\n",
       "   building_area building_use   latitude   longitude  square_feet  \n",
       "0            6.0     透天厝/獨立套房  22.878436  120.250810    19.834711  \n",
       "1           10.0     透天厝/獨立套房  25.081558  121.461868    33.057851  \n",
       "2            8.0    電梯大樓/分租套房  25.010293  121.511328    26.446281  "
      ]
     },
     "execution_count": 188,
     "metadata": {},
     "output_type": "execute_result"
    }
   ],
   "source": [
    "df['building_area'] /0.3025\n",
    "\n",
    "import numpy as np\n",
    "np.sqrt(df['building_area'])\n",
    "df['address'] + '-' +df['price']\n",
    "\n",
    "#新價格存入Dataframe\n",
    "df['square_feet']  = df['building_area'] /0.3025\n",
    "df.head(3)"
   ]
  },
  {
   "cell_type": "code",
   "execution_count": 192,
   "metadata": {},
   "outputs": [
    {
     "data": {
      "text/plain": [
       "4500"
      ]
     },
     "execution_count": 192,
     "metadata": {},
     "output_type": "execute_result"
    }
   ],
   "source": [
    "def normalizePrice(price):\n",
    "    return int(''.join(price.strip('元/月').split(',')))\n",
    "normalizePrice('4,500元/月')\n"
   ]
  },
  {
   "cell_type": "code",
   "execution_count": 194,
   "metadata": {},
   "outputs": [
    {
     "data": {
      "text/plain": [
       "0     4500\n",
       "1     7500\n",
       "2    11000\n",
       "3     5000\n",
       "4     5000\n",
       "Name: price, dtype: int64"
      ]
     },
     "execution_count": 194,
     "metadata": {},
     "output_type": "execute_result"
    }
   ],
   "source": [
    "df['price'].map(lambda price: int(''.join(price.strip('元/月').split(',')))).head()"
   ]
  },
  {
   "cell_type": "code",
   "execution_count": 196,
   "metadata": {},
   "outputs": [
    {
     "data": {
      "text/html": [
       "<div>\n",
       "<style>\n",
       "    .dataframe thead tr:only-child th {\n",
       "        text-align: right;\n",
       "    }\n",
       "\n",
       "    .dataframe thead th {\n",
       "        text-align: left;\n",
       "    }\n",
       "\n",
       "    .dataframe tbody tr th {\n",
       "        vertical-align: top;\n",
       "    }\n",
       "</style>\n",
       "<table border=\"1\" class=\"dataframe\">\n",
       "  <thead>\n",
       "    <tr style=\"text-align: right;\">\n",
       "      <th></th>\n",
       "      <th>detail_url</th>\n",
       "      <th>search_date</th>\n",
       "      <th>title</th>\n",
       "      <th>address</th>\n",
       "      <th>floor_info</th>\n",
       "      <th>price</th>\n",
       "      <th>layout</th>\n",
       "      <th>building_area</th>\n",
       "      <th>building_use</th>\n",
       "      <th>latitude</th>\n",
       "      <th>longitude</th>\n",
       "      <th>square_feet</th>\n",
       "    </tr>\n",
       "  </thead>\n",
       "  <tbody>\n",
       "    <tr>\n",
       "      <th>0</th>\n",
       "      <td>https://rent.591.com.tw/rent-detail-1050934.html</td>\n",
       "      <td>2017-05-14</td>\n",
       "      <td>套房出租-近東方學院(六~八月可入住)</td>\n",
       "      <td>高雄市湖內區民生街</td>\n",
       "      <td>3F/3F</td>\n",
       "      <td>4,500元/月</td>\n",
       "      <td>-</td>\n",
       "      <td>6.0</td>\n",
       "      <td>透天厝/獨立套房</td>\n",
       "      <td>22.878436</td>\n",
       "      <td>120.250810</td>\n",
       "      <td>19.834711</td>\n",
       "    </tr>\n",
       "    <tr>\n",
       "      <th>1</th>\n",
       "      <td>https://rent.591.com.tw/rent-detail-1008046.html</td>\n",
       "      <td>2017-05-14</td>\n",
       "      <td>好房子【聰明的你、妳快來租吧】</td>\n",
       "      <td>新北市蘆洲區長安街</td>\n",
       "      <td>4F/5F</td>\n",
       "      <td>7,500元/月</td>\n",
       "      <td>-</td>\n",
       "      <td>10.0</td>\n",
       "      <td>透天厝/獨立套房</td>\n",
       "      <td>25.081558</td>\n",
       "      <td>121.461868</td>\n",
       "      <td>33.057851</td>\n",
       "    </tr>\n",
       "    <tr>\n",
       "      <th>2</th>\n",
       "      <td>https://rent.591.com.tw/rent-detail-1586266.html</td>\n",
       "      <td>2017-05-12</td>\n",
       "      <td>陽台大套房(獨立洗衣機)近頂溪捷運站</td>\n",
       "      <td>新北市永和區中山路一段</td>\n",
       "      <td>8F/12F</td>\n",
       "      <td>11,000元/月</td>\n",
       "      <td>-</td>\n",
       "      <td>8.0</td>\n",
       "      <td>電梯大樓/分租套房</td>\n",
       "      <td>25.010293</td>\n",
       "      <td>121.511328</td>\n",
       "      <td>26.446281</td>\n",
       "    </tr>\n",
       "  </tbody>\n",
       "</table>\n",
       "</div>"
      ],
      "text/plain": [
       "                                         detail_url search_date  \\\n",
       "0  https://rent.591.com.tw/rent-detail-1050934.html  2017-05-14   \n",
       "1  https://rent.591.com.tw/rent-detail-1008046.html  2017-05-14   \n",
       "2  https://rent.591.com.tw/rent-detail-1586266.html  2017-05-12   \n",
       "\n",
       "                 title      address floor_info      price layout  \\\n",
       "0  套房出租-近東方學院(六~八月可入住)    高雄市湖內區民生街      3F/3F   4,500元/月      -   \n",
       "1      好房子【聰明的你、妳快來租吧】    新北市蘆洲區長安街      4F/5F   7,500元/月      -   \n",
       "2   陽台大套房(獨立洗衣機)近頂溪捷運站  新北市永和區中山路一段     8F/12F  11,000元/月      -   \n",
       "\n",
       "   building_area building_use   latitude   longitude  square_feet  \n",
       "0            6.0     透天厝/獨立套房  22.878436  120.250810    19.834711  \n",
       "1           10.0     透天厝/獨立套房  25.081558  121.461868    33.057851  \n",
       "2            8.0    電梯大樓/分租套房  25.010293  121.511328    26.446281  "
      ]
     },
     "execution_count": 196,
     "metadata": {},
     "output_type": "execute_result"
    }
   ],
   "source": [
    "df.applymap(lambda e: '-' if pandas.isnull(e) else e).head(3)"
   ]
  },
  {
   "cell_type": "code",
   "execution_count": 237,
   "metadata": {
    "scrolled": false
   },
   "outputs": [
    {
     "data": {
      "text/html": [
       "<div>\n",
       "<style>\n",
       "    .dataframe thead tr:only-child th {\n",
       "        text-align: right;\n",
       "    }\n",
       "\n",
       "    .dataframe thead th {\n",
       "        text-align: left;\n",
       "    }\n",
       "\n",
       "    .dataframe tbody tr th {\n",
       "        vertical-align: top;\n",
       "    }\n",
       "</style>\n",
       "<table border=\"1\" class=\"dataframe\">\n",
       "  <thead>\n",
       "    <tr style=\"text-align: right;\">\n",
       "      <th></th>\n",
       "      <th>detail_url</th>\n",
       "      <th>search_date</th>\n",
       "      <th>title</th>\n",
       "      <th>address</th>\n",
       "      <th>floor_info</th>\n",
       "      <th>price</th>\n",
       "      <th>layout</th>\n",
       "      <th>building_area</th>\n",
       "      <th>building_use</th>\n",
       "      <th>latitude</th>\n",
       "      <th>longitude</th>\n",
       "      <th>square_feet</th>\n",
       "    </tr>\n",
       "  </thead>\n",
       "  <tbody>\n",
       "    <tr>\n",
       "      <th>0</th>\n",
       "      <td>https://rent.591.com.tw/rent-detail-1050934.html</td>\n",
       "      <td>2017-05-14</td>\n",
       "      <td>套房出租-近東方學院(六~八月可入住)</td>\n",
       "      <td>高雄市湖內區民生街</td>\n",
       "      <td>3F/3F</td>\n",
       "      <td>4,500元/月</td>\n",
       "      <td>^_^</td>\n",
       "      <td>6.0</td>\n",
       "      <td>透天厝/獨立套房</td>\n",
       "      <td>22.878436</td>\n",
       "      <td>120.250810</td>\n",
       "      <td>19.834711</td>\n",
       "    </tr>\n",
       "    <tr>\n",
       "      <th>1</th>\n",
       "      <td>https://rent.591.com.tw/rent-detail-1008046.html</td>\n",
       "      <td>2017-05-14</td>\n",
       "      <td>好房子【聰明的你、妳快來租吧】</td>\n",
       "      <td>新北市蘆洲區長安街</td>\n",
       "      <td>4F/5F</td>\n",
       "      <td>7,500元/月</td>\n",
       "      <td>^_^</td>\n",
       "      <td>10.0</td>\n",
       "      <td>透天厝/獨立套房</td>\n",
       "      <td>25.081558</td>\n",
       "      <td>121.461868</td>\n",
       "      <td>33.057851</td>\n",
       "    </tr>\n",
       "    <tr>\n",
       "      <th>2</th>\n",
       "      <td>https://rent.591.com.tw/rent-detail-1586266.html</td>\n",
       "      <td>2017-05-12</td>\n",
       "      <td>陽台大套房(獨立洗衣機)近頂溪捷運站</td>\n",
       "      <td>新北市永和區中山路一段</td>\n",
       "      <td>8F/12F</td>\n",
       "      <td>11,000元/月</td>\n",
       "      <td>^_^</td>\n",
       "      <td>8.0</td>\n",
       "      <td>電梯大樓/分租套房</td>\n",
       "      <td>25.010293</td>\n",
       "      <td>121.511328</td>\n",
       "      <td>26.446281</td>\n",
       "    </tr>\n",
       "    <tr>\n",
       "      <th>3</th>\n",
       "      <td>https://rent.591.com.tw/rent-detail-1699948.html</td>\n",
       "      <td>2017-05-13</td>\n",
       "      <td>火車站附近~~優質套房</td>\n",
       "      <td>屏東縣潮州鎮六合路</td>\n",
       "      <td>3F/3F</td>\n",
       "      <td>5,000元/月</td>\n",
       "      <td>^_^</td>\n",
       "      <td>8.0</td>\n",
       "      <td>透天厝/獨立套房</td>\n",
       "      <td>22.551346</td>\n",
       "      <td>120.538032</td>\n",
       "      <td>26.446281</td>\n",
       "    </tr>\n",
       "    <tr>\n",
       "      <th>4</th>\n",
       "      <td>https://rent.591.com.tw/rent-detail-1404725.html</td>\n",
       "      <td>2017-05-12</td>\n",
       "      <td>觀音四維路優質陽台套房</td>\n",
       "      <td>桃園市觀音區四維路</td>\n",
       "      <td>4F/5F</td>\n",
       "      <td>5,000元/月</td>\n",
       "      <td>^_^</td>\n",
       "      <td>7.0</td>\n",
       "      <td>透天厝/分租套房</td>\n",
       "      <td>25.043652</td>\n",
       "      <td>121.141518</td>\n",
       "      <td>23.140496</td>\n",
       "    </tr>\n",
       "  </tbody>\n",
       "</table>\n",
       "</div>"
      ],
      "text/plain": [
       "                                         detail_url search_date  \\\n",
       "0  https://rent.591.com.tw/rent-detail-1050934.html  2017-05-14   \n",
       "1  https://rent.591.com.tw/rent-detail-1008046.html  2017-05-14   \n",
       "2  https://rent.591.com.tw/rent-detail-1586266.html  2017-05-12   \n",
       "3  https://rent.591.com.tw/rent-detail-1699948.html  2017-05-13   \n",
       "4  https://rent.591.com.tw/rent-detail-1404725.html  2017-05-12   \n",
       "\n",
       "                 title      address floor_info      price layout  \\\n",
       "0  套房出租-近東方學院(六~八月可入住)    高雄市湖內區民生街      3F/3F   4,500元/月    ^_^   \n",
       "1      好房子【聰明的你、妳快來租吧】    新北市蘆洲區長安街      4F/5F   7,500元/月    ^_^   \n",
       "2   陽台大套房(獨立洗衣機)近頂溪捷運站  新北市永和區中山路一段     8F/12F  11,000元/月    ^_^   \n",
       "3          火車站附近~~優質套房    屏東縣潮州鎮六合路      3F/3F   5,000元/月    ^_^   \n",
       "4          觀音四維路優質陽台套房    桃園市觀音區四維路      4F/5F   5,000元/月    ^_^   \n",
       "\n",
       "   building_area building_use   latitude   longitude  square_feet  \n",
       "0            6.0     透天厝/獨立套房  22.878436  120.250810    19.834711  \n",
       "1           10.0     透天厝/獨立套房  25.081558  121.461868    33.057851  \n",
       "2            8.0    電梯大樓/分租套房  25.010293  121.511328    26.446281  \n",
       "3            8.0     透天厝/獨立套房  22.551346  120.538032    26.446281  \n",
       "4            7.0     透天厝/分租套房  25.043652  121.141518    23.140496  "
      ]
     },
     "execution_count": 237,
     "metadata": {},
     "output_type": "execute_result"
    }
   ],
   "source": [
    "df.fillna('^_^').head()"
   ]
  },
  {
   "cell_type": "code",
   "execution_count": null,
   "metadata": {},
   "outputs": [],
   "source": []
  },
  {
   "cell_type": "code",
   "execution_count": null,
   "metadata": {
    "collapsed": true
   },
   "outputs": [],
   "source": []
  },
  {
   "cell_type": "markdown",
   "metadata": {},
   "source": [
    "\n",
    "# 處理時間格式"
   ]
  },
  {
   "cell_type": "code",
   "execution_count": null,
   "metadata": {
    "collapsed": true
   },
   "outputs": [],
   "source": []
  },
  {
   "cell_type": "markdown",
   "metadata": {},
   "source": [
    "# regular expression"
   ]
  },
  {
   "cell_type": "code",
   "execution_count": 211,
   "metadata": {},
   "outputs": [
    {
     "name": "stdout",
     "output_type": "stream",
     "text": [
      "<_sre.SRE_Match object; span=(0, 1), match='5'>\n",
      "<_sre.SRE_Match object; span=(0, 1), match='5'>\n"
     ]
    }
   ],
   "source": [
    "import re\n",
    "a = '5'\n",
    "#[] 裡面元素用或來比對\n",
    "\n",
    "#  -代表連續\n",
    "print(re.match('[0-9]',a))\n",
    "\n",
    "# /d 代表0-9\n",
    "\n",
    "print(re.match('\\d',a))\n",
    "      "
   ]
  },
  {
   "cell_type": "markdown",
   "metadata": {},
   "source": [
    "# 比對英文字母"
   ]
  },
  {
   "cell_type": "code",
   "execution_count": 212,
   "metadata": {},
   "outputs": [
    {
     "name": "stdout",
     "output_type": "stream",
     "text": [
      "<_sre.SRE_Match object; span=(0, 1), match='g'>\n",
      "<_sre.SRE_Match object; span=(0, 1), match='G'>\n"
     ]
    }
   ],
   "source": [
    "s = 'g'\n",
    "print(re.match('[a-z]',s))\n",
    "\n",
    "s2 = 'G'\n",
    "print(re.match('[a-zA-Z]',s2))  #比對大小寫\n"
   ]
  },
  {
   "cell_type": "markdown",
   "metadata": {},
   "source": [
    "# 同時比對英文數字"
   ]
  },
  {
   "cell_type": "code",
   "execution_count": 221,
   "metadata": {},
   "outputs": [
    {
     "data": {
      "text/plain": [
       "<_sre.SRE_Match object; span=(0, 1), match='5'>"
      ]
     },
     "execution_count": 221,
     "metadata": {},
     "output_type": "execute_result"
    }
   ],
   "source": [
    "s = '5'\n",
    "re.match('[a-zA-Z0-9]', s)\n",
    "\n",
    "# \\w == [a-zA-Z0-9]\n",
    "re.match('\\w', s)"
   ]
  },
  {
   "cell_type": "markdown",
   "metadata": {},
   "source": [
    "# 特殊字元"
   ]
  },
  {
   "cell_type": "code",
   "execution_count": null,
   "metadata": {
    "collapsed": true
   },
   "outputs": [],
   "source": [
    "# .   == 任意字元\n",
    "A = '$'\n",
    "re.match('.',a)"
   ]
  },
  {
   "cell_type": "markdown",
   "metadata": {},
   "source": [
    "# 比對車牌"
   ]
  },
  {
   "cell_type": "code",
   "execution_count": 229,
   "metadata": {},
   "outputs": [
    {
     "name": "stdout",
     "output_type": "stream",
     "text": [
      "<_sre.SRE_Match object; span=(0, 4), match='9988'>\n",
      "<_sre.SRE_Match object; span=(0, 4), match='9988'>\n"
     ]
    },
    {
     "data": {
      "text/plain": [
       "<_sre.SRE_Match object; span=(0, 4), match='9988'>"
      ]
     },
     "execution_count": 229,
     "metadata": {},
     "output_type": "execute_result"
    }
   ],
   "source": [
    "s =  '9988'\n",
    "\n",
    "#{} 裡面的數字代表要比對到的數量\n",
    "re.match('\\d{4}',s)\n",
    "\n",
    "#{s,e}  代表至少有多少符號 e代表至多有多少符號\n",
    "print(re.match('\\d{3,5}',s))\n",
    "\n",
    "\n",
    "#{s, } 至少比對到s個數量符號\n",
    "print(re.match('\\d{3,}', s))\n",
    "\n",
    "# * == {0, } \n",
    "re.match('\\d*', s)\n",
    "\n",
    "# {1, } 至少比對到 1 數量以上符號\n",
    "re.match('\\d{1,}', s)\n",
    "\n",
    "# + == {1, } \n",
    "re.match('\\d+', s)\n",
    "\n"
   ]
  },
  {
   "cell_type": "markdown",
   "metadata": {},
   "source": [
    "# 比對電話號碼"
   ]
  },
  {
   "cell_type": "code",
   "execution_count": 233,
   "metadata": {},
   "outputs": [
    {
     "data": {
      "text/plain": [
       "<_sre.SRE_Match object; span=(0, 10), match='0912345678'>"
      ]
     },
     "execution_count": 233,
     "metadata": {},
     "output_type": "execute_result"
    }
   ],
   "source": [
    "p = '0912345678'\n",
    "re.match('\\d{10}', p)\n",
    "\n",
    "p2 = '1234567890'\n",
    "re.match('\\d{10}', p2)df2 = \n",
    "df.pivot_table(index='search_date', columns='building_use', values='price', aggfunc='mean')\n",
    "df2.head()\n",
    "\n",
    "re.match('09\\d{8}', p )"
   ]
  },
  {
   "cell_type": "code",
   "execution_count": 234,
   "metadata": {},
   "outputs": [
    {
     "name": "stdout",
     "output_type": "stream",
     "text": [
      "<_sre.SRE_Match object; span=(0, 10), match='0912345678'>\n",
      "<_sre.SRE_Match object; span=(0, 11), match='0912-345678'>\n",
      "<_sre.SRE_Match object; span=(0, 12), match='0912-345-678'>\n"
     ]
    }
   ],
   "source": [
    "phones = ['0912345678', '0912-345678', '0912-345-678']\n",
    "for p in phones:\n",
    "    #print(re.match('09\\d{8}' , p))\n",
    "    #print(re.match('09\\d{2}-{0,1}\\d{3}-{0,1}\\d{3}' , p))\n",
    "    \n",
    "    # {0,1} == ?\n",
    "    print(re.match('09\\d{2}-?\\d{3}-?\\d{3}' , p))"
   ]
  },
  {
   "cell_type": "code",
   "execution_count": 239,
   "metadata": {},
   "outputs": [
    {
     "name": "stdout",
     "output_type": "stream",
     "text": [
      "<_sre.SRE_Match object; span=(0, 10), match='0912345678'>\n",
      "<_sre.SRE_Match object; span=(0, 11), match='0912-345678'>\n",
      "<_sre.SRE_Match object; span=(0, 12), match='0912-345-678'>\n",
      "None\n"
     ]
    }
   ],
   "source": [
    "phones = ['0912345678', '0912-345678', '0912-345-678', '0912930183109830130913']\n",
    "for p in phones:\n",
    "    # ^ 強制比對開頭, $ 強制結尾\n",
    "    print(re.match('^09\\d{2}-?\\d{3}-?\\d{3}$' , p))"
   ]
  },
  {
   "cell_type": "code",
   "execution_count": null,
   "metadata": {
    "collapsed": true
   },
   "outputs": [],
   "source": []
  },
  {
   "cell_type": "code",
   "execution_count": null,
   "metadata": {
    "collapsed": true
   },
   "outputs": [],
   "source": []
  },
  {
   "cell_type": "markdown",
   "metadata": {},
   "source": [
    "# io"
   ]
  },
  {
   "cell_type": "code",
   "execution_count": 243,
   "metadata": {},
   "outputs": [
    {
     "data": {
      "text/html": [
       "<div>\n",
       "<style>\n",
       "    .dataframe thead tr:only-child th {\n",
       "        text-align: right;\n",
       "    }\n",
       "\n",
       "    .dataframe thead th {\n",
       "        text-align: left;\n",
       "    }\n",
       "\n",
       "    .dataframe tbody tr th {\n",
       "        vertical-align: top;\n",
       "    }\n",
       "</style>\n",
       "<table border=\"1\" class=\"dataframe\">\n",
       "  <thead>\n",
       "    <tr style=\"text-align: right;\">\n",
       "      <th></th>\n",
       "      <th>Dates</th>\n",
       "      <th>Action</th>\n",
       "      <th>User</th>\n",
       "      <th>Product</th>\n",
       "      <th>Quantity</th>\n",
       "      <th>Price</th>\n",
       "    </tr>\n",
       "  </thead>\n",
       "  <tbody>\n",
       "    <tr>\n",
       "      <th>0</th>\n",
       "      <td>2015-07-01 00:00:01</td>\n",
       "      <td>order</td>\n",
       "      <td>U312622727</td>\n",
       "      <td>P0006944501</td>\n",
       "      <td>1</td>\n",
       "      <td>1069.0</td>\n",
       "    </tr>\n",
       "    <tr>\n",
       "      <th>1</th>\n",
       "      <td>2015-07-01 00:00:03</td>\n",
       "      <td>order</td>\n",
       "      <td>U239012343</td>\n",
       "      <td>P0006018073</td>\n",
       "      <td>1</td>\n",
       "      <td>1680.0</td>\n",
       "    </tr>\n",
       "    <tr>\n",
       "      <th>2</th>\n",
       "      <td>2015-07-01 00:00:19</td>\n",
       "      <td>order</td>\n",
       "      <td>U10007697373</td>\n",
       "      <td>P0002267974</td>\n",
       "      <td>1</td>\n",
       "      <td>285.0</td>\n",
       "    </tr>\n",
       "    <tr>\n",
       "      <th>3</th>\n",
       "      <td>2015-07-01 00:01:10</td>\n",
       "      <td>order</td>\n",
       "      <td>U296328517</td>\n",
       "      <td>P0016144236</td>\n",
       "      <td>1</td>\n",
       "      <td>550.0</td>\n",
       "    </tr>\n",
       "    <tr>\n",
       "      <th>4</th>\n",
       "      <td>2015-07-01 00:01:36</td>\n",
       "      <td>order</td>\n",
       "      <td>U300884570</td>\n",
       "      <td>P0014516980122</td>\n",
       "      <td>1</td>\n",
       "      <td>249.0</td>\n",
       "    </tr>\n",
       "  </tbody>\n",
       "</table>\n",
       "</div>"
      ],
      "text/plain": [
       "                Dates Action          User         Product  Quantity   Price\n",
       "0 2015-07-01 00:00:01  order    U312622727     P0006944501         1  1069.0\n",
       "1 2015-07-01 00:00:03  order    U239012343     P0006018073         1  1680.0\n",
       "2 2015-07-01 00:00:19  order  U10007697373     P0002267974         1   285.0\n",
       "3 2015-07-01 00:01:10  order    U296328517     P0016144236         1   550.0\n",
       "4 2015-07-01 00:01:36  order    U300884570  P0014516980122         1   249.0"
      ]
     },
     "execution_count": 243,
     "metadata": {},
     "output_type": "execute_result"
    }
   ],
   "source": [
    "\n",
    "import pandas\n",
    "m_cols = ['Time','Action','User','Product', 'Quantity','Price']\n",
    "df = pandas.read_csv('https://raw.githubusercontent.com/ywchiu/tibamepy/master/data/purchase_order.tab', \\\n",
    "                     sep = '\\t', header = None,  parse_dates={'Dates': [0]}, names=m_cols)\n",
    "df.head()"
   ]
  },
  {
   "cell_type": "markdown",
   "metadata": {},
   "source": [
    "# 抓取台銀匯率"
   ]
  },
  {
   "cell_type": "code",
   "execution_count": 257,
   "metadata": {
    "collapsed": true
   },
   "outputs": [],
   "source": [
    "import pandas\n",
    "dfs = pandas.read_html('http://rate.bot.com.tw/xrt/quote/l6m/USD')"
   ]
  },
  {
   "cell_type": "code",
   "execution_count": 259,
   "metadata": {},
   "outputs": [
    {
     "data": {
      "text/html": [
       "<div>\n",
       "<style>\n",
       "    .dataframe thead tr:only-child th {\n",
       "        text-align: right;\n",
       "    }\n",
       "\n",
       "    .dataframe thead th {\n",
       "        text-align: left;\n",
       "    }\n",
       "\n",
       "    .dataframe tbody tr th {\n",
       "        vertical-align: top;\n",
       "    }\n",
       "</style>\n",
       "<table border=\"1\" class=\"dataframe\">\n",
       "  <thead>\n",
       "    <tr>\n",
       "      <th></th>\n",
       "      <th colspan=\"2\" halign=\"left\">掛牌日期</th>\n",
       "      <th>幣別</th>\n",
       "      <th>現金匯率</th>\n",
       "      <th>Unnamed: 4_level_0</th>\n",
       "      <th>即期匯率</th>\n",
       "      <th>Unnamed: 6_level_0</th>\n",
       "    </tr>\n",
       "    <tr>\n",
       "      <th></th>\n",
       "      <th>本行買入</th>\n",
       "      <th>本行賣出</th>\n",
       "      <th>本行買入</th>\n",
       "      <th>本行賣出</th>\n",
       "      <th>Unnamed: 4_level_1</th>\n",
       "      <th>Unnamed: 5_level_1</th>\n",
       "      <th>Unnamed: 6_level_1</th>\n",
       "    </tr>\n",
       "  </thead>\n",
       "  <tbody>\n",
       "    <tr>\n",
       "      <th>0</th>\n",
       "      <td>2017/08/18</td>\n",
       "      <td>美金 (USD)</td>\n",
       "      <td>29.970</td>\n",
       "      <td>30.512</td>\n",
       "      <td>30.270</td>\n",
       "      <td>30.370</td>\n",
       "      <td>NaN</td>\n",
       "    </tr>\n",
       "    <tr>\n",
       "      <th>1</th>\n",
       "      <td>2017/08/17</td>\n",
       "      <td>美金 (USD)</td>\n",
       "      <td>29.955</td>\n",
       "      <td>30.497</td>\n",
       "      <td>30.255</td>\n",
       "      <td>30.355</td>\n",
       "      <td>NaN</td>\n",
       "    </tr>\n",
       "    <tr>\n",
       "      <th>2</th>\n",
       "      <td>2017/08/16</td>\n",
       "      <td>美金 (USD)</td>\n",
       "      <td>30.000</td>\n",
       "      <td>30.542</td>\n",
       "      <td>30.300</td>\n",
       "      <td>30.400</td>\n",
       "      <td>NaN</td>\n",
       "    </tr>\n",
       "    <tr>\n",
       "      <th>3</th>\n",
       "      <td>2017/08/15</td>\n",
       "      <td>美金 (USD)</td>\n",
       "      <td>29.935</td>\n",
       "      <td>30.477</td>\n",
       "      <td>30.235</td>\n",
       "      <td>30.335</td>\n",
       "      <td>NaN</td>\n",
       "    </tr>\n",
       "    <tr>\n",
       "      <th>4</th>\n",
       "      <td>2017/08/14</td>\n",
       "      <td>美金 (USD)</td>\n",
       "      <td>29.950</td>\n",
       "      <td>30.492</td>\n",
       "      <td>30.250</td>\n",
       "      <td>30.350</td>\n",
       "      <td>NaN</td>\n",
       "    </tr>\n",
       "    <tr>\n",
       "      <th>5</th>\n",
       "      <td>2017/08/11</td>\n",
       "      <td>美金 (USD)</td>\n",
       "      <td>29.985</td>\n",
       "      <td>30.527</td>\n",
       "      <td>30.285</td>\n",
       "      <td>30.385</td>\n",
       "      <td>NaN</td>\n",
       "    </tr>\n",
       "    <tr>\n",
       "      <th>6</th>\n",
       "      <td>2017/08/10</td>\n",
       "      <td>美金 (USD)</td>\n",
       "      <td>29.950</td>\n",
       "      <td>30.492</td>\n",
       "      <td>30.250</td>\n",
       "      <td>30.350</td>\n",
       "      <td>NaN</td>\n",
       "    </tr>\n",
       "    <tr>\n",
       "      <th>7</th>\n",
       "      <td>2017/08/09</td>\n",
       "      <td>美金 (USD)</td>\n",
       "      <td>29.865</td>\n",
       "      <td>30.407</td>\n",
       "      <td>30.165</td>\n",
       "      <td>30.265</td>\n",
       "      <td>NaN</td>\n",
       "    </tr>\n",
       "    <tr>\n",
       "      <th>8</th>\n",
       "      <td>2017/08/08</td>\n",
       "      <td>美金 (USD)</td>\n",
       "      <td>29.840</td>\n",
       "      <td>30.382</td>\n",
       "      <td>30.140</td>\n",
       "      <td>30.240</td>\n",
       "      <td>NaN</td>\n",
       "    </tr>\n",
       "    <tr>\n",
       "      <th>9</th>\n",
       "      <td>2017/08/07</td>\n",
       "      <td>美金 (USD)</td>\n",
       "      <td>29.875</td>\n",
       "      <td>30.417</td>\n",
       "      <td>30.175</td>\n",
       "      <td>30.275</td>\n",
       "      <td>NaN</td>\n",
       "    </tr>\n",
       "    <tr>\n",
       "      <th>10</th>\n",
       "      <td>2017/08/04</td>\n",
       "      <td>美金 (USD)</td>\n",
       "      <td>29.835</td>\n",
       "      <td>30.377</td>\n",
       "      <td>30.135</td>\n",
       "      <td>30.235</td>\n",
       "      <td>NaN</td>\n",
       "    </tr>\n",
       "    <tr>\n",
       "      <th>11</th>\n",
       "      <td>2017/08/03</td>\n",
       "      <td>美金 (USD)</td>\n",
       "      <td>29.850</td>\n",
       "      <td>30.392</td>\n",
       "      <td>30.150</td>\n",
       "      <td>30.250</td>\n",
       "      <td>NaN</td>\n",
       "    </tr>\n",
       "    <tr>\n",
       "      <th>12</th>\n",
       "      <td>2017/08/02</td>\n",
       "      <td>美金 (USD)</td>\n",
       "      <td>29.870</td>\n",
       "      <td>30.412</td>\n",
       "      <td>30.170</td>\n",
       "      <td>30.270</td>\n",
       "      <td>NaN</td>\n",
       "    </tr>\n",
       "    <tr>\n",
       "      <th>13</th>\n",
       "      <td>2017/08/01</td>\n",
       "      <td>美金 (USD)</td>\n",
       "      <td>29.880</td>\n",
       "      <td>30.422</td>\n",
       "      <td>30.180</td>\n",
       "      <td>30.280</td>\n",
       "      <td>NaN</td>\n",
       "    </tr>\n",
       "    <tr>\n",
       "      <th>14</th>\n",
       "      <td>2017/07/31</td>\n",
       "      <td>美金 (USD)</td>\n",
       "      <td>29.845</td>\n",
       "      <td>30.387</td>\n",
       "      <td>30.145</td>\n",
       "      <td>30.245</td>\n",
       "      <td>NaN</td>\n",
       "    </tr>\n",
       "    <tr>\n",
       "      <th>15</th>\n",
       "      <td>2017/07/28</td>\n",
       "      <td>美金 (USD)</td>\n",
       "      <td>29.915</td>\n",
       "      <td>30.457</td>\n",
       "      <td>30.215</td>\n",
       "      <td>30.315</td>\n",
       "      <td>NaN</td>\n",
       "    </tr>\n",
       "    <tr>\n",
       "      <th>16</th>\n",
       "      <td>2017/07/27</td>\n",
       "      <td>美金 (USD)</td>\n",
       "      <td>29.880</td>\n",
       "      <td>30.422</td>\n",
       "      <td>30.180</td>\n",
       "      <td>30.280</td>\n",
       "      <td>NaN</td>\n",
       "    </tr>\n",
       "    <tr>\n",
       "      <th>17</th>\n",
       "      <td>2017/07/26</td>\n",
       "      <td>美金 (USD)</td>\n",
       "      <td>30.030</td>\n",
       "      <td>30.572</td>\n",
       "      <td>30.330</td>\n",
       "      <td>30.430</td>\n",
       "      <td>NaN</td>\n",
       "    </tr>\n",
       "    <tr>\n",
       "      <th>18</th>\n",
       "      <td>2017/07/25</td>\n",
       "      <td>美金 (USD)</td>\n",
       "      <td>29.985</td>\n",
       "      <td>30.527</td>\n",
       "      <td>30.285</td>\n",
       "      <td>30.385</td>\n",
       "      <td>NaN</td>\n",
       "    </tr>\n",
       "    <tr>\n",
       "      <th>19</th>\n",
       "      <td>2017/07/24</td>\n",
       "      <td>美金 (USD)</td>\n",
       "      <td>29.990</td>\n",
       "      <td>30.532</td>\n",
       "      <td>30.290</td>\n",
       "      <td>30.390</td>\n",
       "      <td>NaN</td>\n",
       "    </tr>\n",
       "    <tr>\n",
       "      <th>20</th>\n",
       "      <td>2017/07/21</td>\n",
       "      <td>美金 (USD)</td>\n",
       "      <td>30.090</td>\n",
       "      <td>30.632</td>\n",
       "      <td>30.390</td>\n",
       "      <td>30.490</td>\n",
       "      <td>NaN</td>\n",
       "    </tr>\n",
       "    <tr>\n",
       "      <th>21</th>\n",
       "      <td>2017/07/20</td>\n",
       "      <td>美金 (USD)</td>\n",
       "      <td>30.100</td>\n",
       "      <td>30.642</td>\n",
       "      <td>30.400</td>\n",
       "      <td>30.500</td>\n",
       "      <td>NaN</td>\n",
       "    </tr>\n",
       "    <tr>\n",
       "      <th>22</th>\n",
       "      <td>2017/07/19</td>\n",
       "      <td>美金 (USD)</td>\n",
       "      <td>30.035</td>\n",
       "      <td>30.577</td>\n",
       "      <td>30.335</td>\n",
       "      <td>30.435</td>\n",
       "      <td>NaN</td>\n",
       "    </tr>\n",
       "    <tr>\n",
       "      <th>23</th>\n",
       "      <td>2017/07/18</td>\n",
       "      <td>美金 (USD)</td>\n",
       "      <td>30.010</td>\n",
       "      <td>30.552</td>\n",
       "      <td>30.310</td>\n",
       "      <td>30.410</td>\n",
       "      <td>NaN</td>\n",
       "    </tr>\n",
       "    <tr>\n",
       "      <th>24</th>\n",
       "      <td>2017/07/17</td>\n",
       "      <td>美金 (USD)</td>\n",
       "      <td>30.065</td>\n",
       "      <td>30.607</td>\n",
       "      <td>30.365</td>\n",
       "      <td>30.465</td>\n",
       "      <td>NaN</td>\n",
       "    </tr>\n",
       "    <tr>\n",
       "      <th>25</th>\n",
       "      <td>2017/07/14</td>\n",
       "      <td>美金 (USD)</td>\n",
       "      <td>30.050</td>\n",
       "      <td>30.592</td>\n",
       "      <td>30.350</td>\n",
       "      <td>30.450</td>\n",
       "      <td>NaN</td>\n",
       "    </tr>\n",
       "    <tr>\n",
       "      <th>26</th>\n",
       "      <td>2017/07/13</td>\n",
       "      <td>美金 (USD)</td>\n",
       "      <td>30.010</td>\n",
       "      <td>30.552</td>\n",
       "      <td>30.310</td>\n",
       "      <td>30.410</td>\n",
       "      <td>NaN</td>\n",
       "    </tr>\n",
       "    <tr>\n",
       "      <th>27</th>\n",
       "      <td>2017/07/12</td>\n",
       "      <td>美金 (USD)</td>\n",
       "      <td>30.130</td>\n",
       "      <td>30.672</td>\n",
       "      <td>30.430</td>\n",
       "      <td>30.530</td>\n",
       "      <td>NaN</td>\n",
       "    </tr>\n",
       "    <tr>\n",
       "      <th>28</th>\n",
       "      <td>2017/07/11</td>\n",
       "      <td>美金 (USD)</td>\n",
       "      <td>30.225</td>\n",
       "      <td>30.767</td>\n",
       "      <td>30.525</td>\n",
       "      <td>30.625</td>\n",
       "      <td>NaN</td>\n",
       "    </tr>\n",
       "    <tr>\n",
       "      <th>29</th>\n",
       "      <td>2017/07/10</td>\n",
       "      <td>美金 (USD)</td>\n",
       "      <td>30.235</td>\n",
       "      <td>30.777</td>\n",
       "      <td>30.535</td>\n",
       "      <td>30.635</td>\n",
       "      <td>NaN</td>\n",
       "    </tr>\n",
       "    <tr>\n",
       "      <th>...</th>\n",
       "      <td>...</td>\n",
       "      <td>...</td>\n",
       "      <td>...</td>\n",
       "      <td>...</td>\n",
       "      <td>...</td>\n",
       "      <td>...</td>\n",
       "      <td>...</td>\n",
       "    </tr>\n",
       "    <tr>\n",
       "      <th>94</th>\n",
       "      <td>2017/04/06</td>\n",
       "      <td>美金 (USD)</td>\n",
       "      <td>30.205</td>\n",
       "      <td>30.747</td>\n",
       "      <td>30.505</td>\n",
       "      <td>30.605</td>\n",
       "      <td>NaN</td>\n",
       "    </tr>\n",
       "    <tr>\n",
       "      <th>95</th>\n",
       "      <td>2017/04/05</td>\n",
       "      <td>美金 (USD)</td>\n",
       "      <td>30.035</td>\n",
       "      <td>30.577</td>\n",
       "      <td>30.335</td>\n",
       "      <td>30.435</td>\n",
       "      <td>NaN</td>\n",
       "    </tr>\n",
       "    <tr>\n",
       "      <th>96</th>\n",
       "      <td>2017/03/31</td>\n",
       "      <td>美金 (USD)</td>\n",
       "      <td>29.980</td>\n",
       "      <td>30.522</td>\n",
       "      <td>30.280</td>\n",
       "      <td>30.380</td>\n",
       "      <td>NaN</td>\n",
       "    </tr>\n",
       "    <tr>\n",
       "      <th>97</th>\n",
       "      <td>2017/03/30</td>\n",
       "      <td>美金 (USD)</td>\n",
       "      <td>29.955</td>\n",
       "      <td>30.497</td>\n",
       "      <td>30.255</td>\n",
       "      <td>30.355</td>\n",
       "      <td>NaN</td>\n",
       "    </tr>\n",
       "    <tr>\n",
       "      <th>98</th>\n",
       "      <td>2017/03/29</td>\n",
       "      <td>美金 (USD)</td>\n",
       "      <td>29.920</td>\n",
       "      <td>30.462</td>\n",
       "      <td>30.220</td>\n",
       "      <td>30.320</td>\n",
       "      <td>NaN</td>\n",
       "    </tr>\n",
       "    <tr>\n",
       "      <th>99</th>\n",
       "      <td>2017/03/28</td>\n",
       "      <td>美金 (USD)</td>\n",
       "      <td>29.815</td>\n",
       "      <td>30.357</td>\n",
       "      <td>30.115</td>\n",
       "      <td>30.215</td>\n",
       "      <td>NaN</td>\n",
       "    </tr>\n",
       "    <tr>\n",
       "      <th>100</th>\n",
       "      <td>2017/03/27</td>\n",
       "      <td>美金 (USD)</td>\n",
       "      <td>29.900</td>\n",
       "      <td>30.442</td>\n",
       "      <td>30.200</td>\n",
       "      <td>30.300</td>\n",
       "      <td>NaN</td>\n",
       "    </tr>\n",
       "    <tr>\n",
       "      <th>101</th>\n",
       "      <td>2017/03/24</td>\n",
       "      <td>美金 (USD)</td>\n",
       "      <td>30.135</td>\n",
       "      <td>30.677</td>\n",
       "      <td>30.435</td>\n",
       "      <td>30.535</td>\n",
       "      <td>NaN</td>\n",
       "    </tr>\n",
       "    <tr>\n",
       "      <th>102</th>\n",
       "      <td>2017/03/23</td>\n",
       "      <td>美金 (USD)</td>\n",
       "      <td>30.125</td>\n",
       "      <td>30.667</td>\n",
       "      <td>30.425</td>\n",
       "      <td>30.525</td>\n",
       "      <td>NaN</td>\n",
       "    </tr>\n",
       "    <tr>\n",
       "      <th>103</th>\n",
       "      <td>2017/03/22</td>\n",
       "      <td>美金 (USD)</td>\n",
       "      <td>30.145</td>\n",
       "      <td>30.687</td>\n",
       "      <td>30.445</td>\n",
       "      <td>30.545</td>\n",
       "      <td>NaN</td>\n",
       "    </tr>\n",
       "    <tr>\n",
       "      <th>104</th>\n",
       "      <td>2017/03/21</td>\n",
       "      <td>美金 (USD)</td>\n",
       "      <td>30.105</td>\n",
       "      <td>30.647</td>\n",
       "      <td>30.405</td>\n",
       "      <td>30.505</td>\n",
       "      <td>NaN</td>\n",
       "    </tr>\n",
       "    <tr>\n",
       "      <th>105</th>\n",
       "      <td>2017/03/20</td>\n",
       "      <td>美金 (USD)</td>\n",
       "      <td>30.185</td>\n",
       "      <td>30.727</td>\n",
       "      <td>30.485</td>\n",
       "      <td>30.585</td>\n",
       "      <td>NaN</td>\n",
       "    </tr>\n",
       "    <tr>\n",
       "      <th>106</th>\n",
       "      <td>2017/03/17</td>\n",
       "      <td>美金 (USD)</td>\n",
       "      <td>30.280</td>\n",
       "      <td>30.822</td>\n",
       "      <td>30.580</td>\n",
       "      <td>30.680</td>\n",
       "      <td>NaN</td>\n",
       "    </tr>\n",
       "    <tr>\n",
       "      <th>107</th>\n",
       "      <td>2017/03/16</td>\n",
       "      <td>美金 (USD)</td>\n",
       "      <td>30.345</td>\n",
       "      <td>30.887</td>\n",
       "      <td>30.645</td>\n",
       "      <td>30.745</td>\n",
       "      <td>NaN</td>\n",
       "    </tr>\n",
       "    <tr>\n",
       "      <th>108</th>\n",
       "      <td>2017/03/15</td>\n",
       "      <td>美金 (USD)</td>\n",
       "      <td>30.490</td>\n",
       "      <td>31.032</td>\n",
       "      <td>30.790</td>\n",
       "      <td>30.890</td>\n",
       "      <td>NaN</td>\n",
       "    </tr>\n",
       "    <tr>\n",
       "      <th>109</th>\n",
       "      <td>2017/03/14</td>\n",
       "      <td>美金 (USD)</td>\n",
       "      <td>30.615</td>\n",
       "      <td>31.157</td>\n",
       "      <td>30.915</td>\n",
       "      <td>31.015</td>\n",
       "      <td>NaN</td>\n",
       "    </tr>\n",
       "    <tr>\n",
       "      <th>110</th>\n",
       "      <td>2017/03/13</td>\n",
       "      <td>美金 (USD)</td>\n",
       "      <td>30.600</td>\n",
       "      <td>31.142</td>\n",
       "      <td>30.900</td>\n",
       "      <td>31.000</td>\n",
       "      <td>NaN</td>\n",
       "    </tr>\n",
       "    <tr>\n",
       "      <th>111</th>\n",
       "      <td>2017/03/10</td>\n",
       "      <td>美金 (USD)</td>\n",
       "      <td>30.690</td>\n",
       "      <td>31.232</td>\n",
       "      <td>30.990</td>\n",
       "      <td>31.090</td>\n",
       "      <td>NaN</td>\n",
       "    </tr>\n",
       "    <tr>\n",
       "      <th>112</th>\n",
       "      <td>2017/03/09</td>\n",
       "      <td>美金 (USD)</td>\n",
       "      <td>30.665</td>\n",
       "      <td>31.207</td>\n",
       "      <td>30.965</td>\n",
       "      <td>31.065</td>\n",
       "      <td>NaN</td>\n",
       "    </tr>\n",
       "    <tr>\n",
       "      <th>113</th>\n",
       "      <td>2017/03/08</td>\n",
       "      <td>美金 (USD)</td>\n",
       "      <td>30.525</td>\n",
       "      <td>31.067</td>\n",
       "      <td>30.825</td>\n",
       "      <td>30.925</td>\n",
       "      <td>NaN</td>\n",
       "    </tr>\n",
       "    <tr>\n",
       "      <th>114</th>\n",
       "      <td>2017/03/07</td>\n",
       "      <td>美金 (USD)</td>\n",
       "      <td>30.500</td>\n",
       "      <td>31.042</td>\n",
       "      <td>30.800</td>\n",
       "      <td>30.900</td>\n",
       "      <td>NaN</td>\n",
       "    </tr>\n",
       "    <tr>\n",
       "      <th>115</th>\n",
       "      <td>2017/03/06</td>\n",
       "      <td>美金 (USD)</td>\n",
       "      <td>30.630</td>\n",
       "      <td>31.172</td>\n",
       "      <td>30.930</td>\n",
       "      <td>31.030</td>\n",
       "      <td>NaN</td>\n",
       "    </tr>\n",
       "    <tr>\n",
       "      <th>116</th>\n",
       "      <td>2017/03/03</td>\n",
       "      <td>美金 (USD)</td>\n",
       "      <td>30.675</td>\n",
       "      <td>31.217</td>\n",
       "      <td>30.975</td>\n",
       "      <td>31.075</td>\n",
       "      <td>NaN</td>\n",
       "    </tr>\n",
       "    <tr>\n",
       "      <th>117</th>\n",
       "      <td>2017/03/02</td>\n",
       "      <td>美金 (USD)</td>\n",
       "      <td>30.445</td>\n",
       "      <td>30.987</td>\n",
       "      <td>30.745</td>\n",
       "      <td>30.845</td>\n",
       "      <td>NaN</td>\n",
       "    </tr>\n",
       "    <tr>\n",
       "      <th>118</th>\n",
       "      <td>2017/03/01</td>\n",
       "      <td>美金 (USD)</td>\n",
       "      <td>30.420</td>\n",
       "      <td>30.962</td>\n",
       "      <td>30.720</td>\n",
       "      <td>30.820</td>\n",
       "      <td>NaN</td>\n",
       "    </tr>\n",
       "    <tr>\n",
       "      <th>119</th>\n",
       "      <td>2017/02/24</td>\n",
       "      <td>美金 (USD)</td>\n",
       "      <td>30.300</td>\n",
       "      <td>30.842</td>\n",
       "      <td>30.600</td>\n",
       "      <td>30.700</td>\n",
       "      <td>NaN</td>\n",
       "    </tr>\n",
       "    <tr>\n",
       "      <th>120</th>\n",
       "      <td>2017/02/23</td>\n",
       "      <td>美金 (USD)</td>\n",
       "      <td>30.390</td>\n",
       "      <td>30.932</td>\n",
       "      <td>30.690</td>\n",
       "      <td>30.790</td>\n",
       "      <td>NaN</td>\n",
       "    </tr>\n",
       "    <tr>\n",
       "      <th>121</th>\n",
       "      <td>2017/02/22</td>\n",
       "      <td>美金 (USD)</td>\n",
       "      <td>30.430</td>\n",
       "      <td>30.972</td>\n",
       "      <td>30.730</td>\n",
       "      <td>30.830</td>\n",
       "      <td>NaN</td>\n",
       "    </tr>\n",
       "    <tr>\n",
       "      <th>122</th>\n",
       "      <td>2017/02/21</td>\n",
       "      <td>美金 (USD)</td>\n",
       "      <td>30.440</td>\n",
       "      <td>30.982</td>\n",
       "      <td>30.740</td>\n",
       "      <td>30.840</td>\n",
       "      <td>NaN</td>\n",
       "    </tr>\n",
       "    <tr>\n",
       "      <th>123</th>\n",
       "      <td>2017/02/20</td>\n",
       "      <td>美金 (USD)</td>\n",
       "      <td>30.450</td>\n",
       "      <td>30.992</td>\n",
       "      <td>30.750</td>\n",
       "      <td>30.850</td>\n",
       "      <td>NaN</td>\n",
       "    </tr>\n",
       "  </tbody>\n",
       "</table>\n",
       "<p>124 rows × 7 columns</p>\n",
       "</div>"
      ],
      "text/plain": [
       "           掛牌日期                幣別    現金匯率 Unnamed: 4_level_0  \\\n",
       "           本行買入      本行賣出    本行買入    本行賣出 Unnamed: 4_level_1   \n",
       "0    2017/08/18  美金 (USD)  29.970  30.512             30.270   \n",
       "1    2017/08/17  美金 (USD)  29.955  30.497             30.255   \n",
       "2    2017/08/16  美金 (USD)  30.000  30.542             30.300   \n",
       "3    2017/08/15  美金 (USD)  29.935  30.477             30.235   \n",
       "4    2017/08/14  美金 (USD)  29.950  30.492             30.250   \n",
       "5    2017/08/11  美金 (USD)  29.985  30.527             30.285   \n",
       "6    2017/08/10  美金 (USD)  29.950  30.492             30.250   \n",
       "7    2017/08/09  美金 (USD)  29.865  30.407             30.165   \n",
       "8    2017/08/08  美金 (USD)  29.840  30.382             30.140   \n",
       "9    2017/08/07  美金 (USD)  29.875  30.417             30.175   \n",
       "10   2017/08/04  美金 (USD)  29.835  30.377             30.135   \n",
       "11   2017/08/03  美金 (USD)  29.850  30.392             30.150   \n",
       "12   2017/08/02  美金 (USD)  29.870  30.412             30.170   \n",
       "13   2017/08/01  美金 (USD)  29.880  30.422             30.180   \n",
       "14   2017/07/31  美金 (USD)  29.845  30.387             30.145   \n",
       "15   2017/07/28  美金 (USD)  29.915  30.457             30.215   \n",
       "16   2017/07/27  美金 (USD)  29.880  30.422             30.180   \n",
       "17   2017/07/26  美金 (USD)  30.030  30.572             30.330   \n",
       "18   2017/07/25  美金 (USD)  29.985  30.527             30.285   \n",
       "19   2017/07/24  美金 (USD)  29.990  30.532             30.290   \n",
       "20   2017/07/21  美金 (USD)  30.090  30.632             30.390   \n",
       "21   2017/07/20  美金 (USD)  30.100  30.642             30.400   \n",
       "22   2017/07/19  美金 (USD)  30.035  30.577             30.335   \n",
       "23   2017/07/18  美金 (USD)  30.010  30.552             30.310   \n",
       "24   2017/07/17  美金 (USD)  30.065  30.607             30.365   \n",
       "25   2017/07/14  美金 (USD)  30.050  30.592             30.350   \n",
       "26   2017/07/13  美金 (USD)  30.010  30.552             30.310   \n",
       "27   2017/07/12  美金 (USD)  30.130  30.672             30.430   \n",
       "28   2017/07/11  美金 (USD)  30.225  30.767             30.525   \n",
       "29   2017/07/10  美金 (USD)  30.235  30.777             30.535   \n",
       "..          ...       ...     ...     ...                ...   \n",
       "94   2017/04/06  美金 (USD)  30.205  30.747             30.505   \n",
       "95   2017/04/05  美金 (USD)  30.035  30.577             30.335   \n",
       "96   2017/03/31  美金 (USD)  29.980  30.522             30.280   \n",
       "97   2017/03/30  美金 (USD)  29.955  30.497             30.255   \n",
       "98   2017/03/29  美金 (USD)  29.920  30.462             30.220   \n",
       "99   2017/03/28  美金 (USD)  29.815  30.357             30.115   \n",
       "100  2017/03/27  美金 (USD)  29.900  30.442             30.200   \n",
       "101  2017/03/24  美金 (USD)  30.135  30.677             30.435   \n",
       "102  2017/03/23  美金 (USD)  30.125  30.667             30.425   \n",
       "103  2017/03/22  美金 (USD)  30.145  30.687             30.445   \n",
       "104  2017/03/21  美金 (USD)  30.105  30.647             30.405   \n",
       "105  2017/03/20  美金 (USD)  30.185  30.727             30.485   \n",
       "106  2017/03/17  美金 (USD)  30.280  30.822             30.580   \n",
       "107  2017/03/16  美金 (USD)  30.345  30.887             30.645   \n",
       "108  2017/03/15  美金 (USD)  30.490  31.032             30.790   \n",
       "109  2017/03/14  美金 (USD)  30.615  31.157             30.915   \n",
       "110  2017/03/13  美金 (USD)  30.600  31.142             30.900   \n",
       "111  2017/03/10  美金 (USD)  30.690  31.232             30.990   \n",
       "112  2017/03/09  美金 (USD)  30.665  31.207             30.965   \n",
       "113  2017/03/08  美金 (USD)  30.525  31.067             30.825   \n",
       "114  2017/03/07  美金 (USD)  30.500  31.042             30.800   \n",
       "115  2017/03/06  美金 (USD)  30.630  31.172             30.930   \n",
       "116  2017/03/03  美金 (USD)  30.675  31.217             30.975   \n",
       "117  2017/03/02  美金 (USD)  30.445  30.987             30.745   \n",
       "118  2017/03/01  美金 (USD)  30.420  30.962             30.720   \n",
       "119  2017/02/24  美金 (USD)  30.300  30.842             30.600   \n",
       "120  2017/02/23  美金 (USD)  30.390  30.932             30.690   \n",
       "121  2017/02/22  美金 (USD)  30.430  30.972             30.730   \n",
       "122  2017/02/21  美金 (USD)  30.440  30.982             30.740   \n",
       "123  2017/02/20  美金 (USD)  30.450  30.992             30.750   \n",
       "\n",
       "                  即期匯率 Unnamed: 6_level_0  \n",
       "    Unnamed: 5_level_1 Unnamed: 6_level_1  \n",
       "0               30.370                NaN  \n",
       "1               30.355                NaN  \n",
       "2               30.400                NaN  \n",
       "3               30.335                NaN  \n",
       "4               30.350                NaN  \n",
       "5               30.385                NaN  \n",
       "6               30.350                NaN  \n",
       "7               30.265                NaN  \n",
       "8               30.240                NaN  \n",
       "9               30.275                NaN  \n",
       "10              30.235                NaN  \n",
       "11              30.250                NaN  \n",
       "12              30.270                NaN  \n",
       "13              30.280                NaN  \n",
       "14              30.245                NaN  \n",
       "15              30.315                NaN  \n",
       "16              30.280                NaN  \n",
       "17              30.430                NaN  \n",
       "18              30.385                NaN  \n",
       "19              30.390                NaN  \n",
       "20              30.490                NaN  \n",
       "21              30.500                NaN  \n",
       "22              30.435                NaN  \n",
       "23              30.410                NaN  \n",
       "24              30.465                NaN  \n",
       "25              30.450                NaN  \n",
       "26              30.410                NaN  \n",
       "27              30.530                NaN  \n",
       "28              30.625                NaN  \n",
       "29              30.635                NaN  \n",
       "..                 ...                ...  \n",
       "94              30.605                NaN  \n",
       "95              30.435                NaN  \n",
       "96              30.380                NaN  \n",
       "97              30.355                NaN  \n",
       "98              30.320                NaN  \n",
       "99              30.215                NaN  \n",
       "100             30.300                NaN  \n",
       "101             30.535                NaN  \n",
       "102             30.525                NaN  \n",
       "103             30.545                NaN  \n",
       "104             30.505                NaN  \n",
       "105             30.585                NaN  \n",
       "106             30.680                NaN  \n",
       "107             30.745                NaN  \n",
       "108             30.890                NaN  \n",
       "109             31.015                NaN  \n",
       "110             31.000                NaN  \n",
       "111             31.090                NaN  \n",
       "112             31.065                NaN  \n",
       "113             30.925                NaN  \n",
       "114             30.900                NaN  \n",
       "115             31.030                NaN  \n",
       "116             31.075                NaN  \n",
       "117             30.845                NaN  \n",
       "118             30.820                NaN  \n",
       "119             30.700                NaN  \n",
       "120             30.790                NaN  \n",
       "121             30.830                NaN  \n",
       "122             30.840                NaN  \n",
       "123             30.850                NaN  \n",
       "\n",
       "[124 rows x 7 columns]"
      ]
     },
     "execution_count": 259,
     "metadata": {},
     "output_type": "execute_result"
    }
   ],
   "source": [
    "dfs[0]"
   ]
  },
  {
   "cell_type": "code",
   "execution_count": 261,
   "metadata": {},
   "outputs": [
    {
     "data": {
      "text/plain": [
       "<matplotlib.axes._subplots.AxesSubplot at 0x1e142048>"
      ]
     },
     "execution_count": 261,
     "metadata": {},
     "output_type": "execute_result"
    }
   ],
   "source": [
    "df.plot(kind = 'line')"
   ]
  },
  {
   "cell_type": "code",
   "execution_count": null,
   "metadata": {},
   "outputs": [],
   "source": []
  },
  {
   "cell_type": "code",
   "execution_count": null,
   "metadata": {},
   "outputs": [],
   "source": []
  }
 ],
 "metadata": {
  "kernelspec": {
   "display_name": "Python 3",
   "language": "python",
   "name": "python3"
  },
  "language_info": {
   "codemirror_mode": {
    "name": "ipython",
    "version": 3
   },
   "file_extension": ".py",
   "mimetype": "text/x-python",
   "name": "python",
   "nbconvert_exporter": "python",
   "pygments_lexer": "ipython3",
   "version": "3.6.1"
  }
 },
 "nbformat": 4,
 "nbformat_minor": 2
}
